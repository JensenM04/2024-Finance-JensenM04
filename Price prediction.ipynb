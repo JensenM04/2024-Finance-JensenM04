{
 "cells": [
  {
   "cell_type": "markdown",
   "id": "fa9ded76",
   "metadata": {},
   "source": [
    "# Price prediction using random forest machine learning"
   ]
  },
  {
   "cell_type": "code",
   "execution_count": 145,
   "id": "dd2b4f5b",
   "metadata": {},
   "outputs": [
    {
     "name": "stderr",
     "output_type": "stream",
     "text": [
      "[*********************100%%**********************]  1 of 1 completed\n"
     ]
    },
    {
     "data": {
      "text/html": [
       "<div>\n",
       "<style scoped>\n",
       "    .dataframe tbody tr th:only-of-type {\n",
       "        vertical-align: middle;\n",
       "    }\n",
       "\n",
       "    .dataframe tbody tr th {\n",
       "        vertical-align: top;\n",
       "    }\n",
       "\n",
       "    .dataframe thead th {\n",
       "        text-align: right;\n",
       "    }\n",
       "</style>\n",
       "<table border=\"1\" class=\"dataframe\">\n",
       "  <thead>\n",
       "    <tr style=\"text-align: right;\">\n",
       "      <th></th>\n",
       "      <th>Open</th>\n",
       "      <th>High</th>\n",
       "      <th>Low</th>\n",
       "      <th>Close</th>\n",
       "      <th>Adj Close</th>\n",
       "      <th>Volume</th>\n",
       "    </tr>\n",
       "    <tr>\n",
       "      <th>Date</th>\n",
       "      <th></th>\n",
       "      <th></th>\n",
       "      <th></th>\n",
       "      <th></th>\n",
       "      <th></th>\n",
       "      <th></th>\n",
       "    </tr>\n",
       "  </thead>\n",
       "  <tbody>\n",
       "    <tr>\n",
       "      <th>1950-01-03</th>\n",
       "      <td>16.660000</td>\n",
       "      <td>16.660000</td>\n",
       "      <td>16.660000</td>\n",
       "      <td>16.660000</td>\n",
       "      <td>16.660000</td>\n",
       "      <td>1260000</td>\n",
       "    </tr>\n",
       "    <tr>\n",
       "      <th>1950-01-04</th>\n",
       "      <td>16.850000</td>\n",
       "      <td>16.850000</td>\n",
       "      <td>16.850000</td>\n",
       "      <td>16.850000</td>\n",
       "      <td>16.850000</td>\n",
       "      <td>1890000</td>\n",
       "    </tr>\n",
       "    <tr>\n",
       "      <th>1950-01-05</th>\n",
       "      <td>16.930000</td>\n",
       "      <td>16.930000</td>\n",
       "      <td>16.930000</td>\n",
       "      <td>16.930000</td>\n",
       "      <td>16.930000</td>\n",
       "      <td>2550000</td>\n",
       "    </tr>\n",
       "    <tr>\n",
       "      <th>1950-01-06</th>\n",
       "      <td>16.980000</td>\n",
       "      <td>16.980000</td>\n",
       "      <td>16.980000</td>\n",
       "      <td>16.980000</td>\n",
       "      <td>16.980000</td>\n",
       "      <td>2010000</td>\n",
       "    </tr>\n",
       "    <tr>\n",
       "      <th>1950-01-09</th>\n",
       "      <td>17.080000</td>\n",
       "      <td>17.080000</td>\n",
       "      <td>17.080000</td>\n",
       "      <td>17.080000</td>\n",
       "      <td>17.080000</td>\n",
       "      <td>2520000</td>\n",
       "    </tr>\n",
       "    <tr>\n",
       "      <th>...</th>\n",
       "      <td>...</td>\n",
       "      <td>...</td>\n",
       "      <td>...</td>\n",
       "      <td>...</td>\n",
       "      <td>...</td>\n",
       "      <td>...</td>\n",
       "    </tr>\n",
       "    <tr>\n",
       "      <th>2024-06-05</th>\n",
       "      <td>5314.479980</td>\n",
       "      <td>5354.160156</td>\n",
       "      <td>5297.640137</td>\n",
       "      <td>5354.029785</td>\n",
       "      <td>5354.029785</td>\n",
       "      <td>3591460000</td>\n",
       "    </tr>\n",
       "    <tr>\n",
       "      <th>2024-06-06</th>\n",
       "      <td>5357.799805</td>\n",
       "      <td>5362.350098</td>\n",
       "      <td>5335.359863</td>\n",
       "      <td>5352.959961</td>\n",
       "      <td>5352.959961</td>\n",
       "      <td>3609990000</td>\n",
       "    </tr>\n",
       "    <tr>\n",
       "      <th>2024-06-07</th>\n",
       "      <td>5343.810059</td>\n",
       "      <td>5375.080078</td>\n",
       "      <td>5331.330078</td>\n",
       "      <td>5346.990234</td>\n",
       "      <td>5346.990234</td>\n",
       "      <td>3692760000</td>\n",
       "    </tr>\n",
       "    <tr>\n",
       "      <th>2024-06-10</th>\n",
       "      <td>5341.220215</td>\n",
       "      <td>5365.790039</td>\n",
       "      <td>5331.520020</td>\n",
       "      <td>5360.790039</td>\n",
       "      <td>5360.790039</td>\n",
       "      <td>3622280000</td>\n",
       "    </tr>\n",
       "    <tr>\n",
       "      <th>2024-06-11</th>\n",
       "      <td>5353.000000</td>\n",
       "      <td>5353.000000</td>\n",
       "      <td>5327.250000</td>\n",
       "      <td>5337.569824</td>\n",
       "      <td>5337.569824</td>\n",
       "      <td>313381365</td>\n",
       "    </tr>\n",
       "  </tbody>\n",
       "</table>\n",
       "<p>18731 rows × 6 columns</p>\n",
       "</div>"
      ],
      "text/plain": [
       "                   Open         High          Low        Close    Adj Close  \\\n",
       "Date                                                                          \n",
       "1950-01-03    16.660000    16.660000    16.660000    16.660000    16.660000   \n",
       "1950-01-04    16.850000    16.850000    16.850000    16.850000    16.850000   \n",
       "1950-01-05    16.930000    16.930000    16.930000    16.930000    16.930000   \n",
       "1950-01-06    16.980000    16.980000    16.980000    16.980000    16.980000   \n",
       "1950-01-09    17.080000    17.080000    17.080000    17.080000    17.080000   \n",
       "...                 ...          ...          ...          ...          ...   \n",
       "2024-06-05  5314.479980  5354.160156  5297.640137  5354.029785  5354.029785   \n",
       "2024-06-06  5357.799805  5362.350098  5335.359863  5352.959961  5352.959961   \n",
       "2024-06-07  5343.810059  5375.080078  5331.330078  5346.990234  5346.990234   \n",
       "2024-06-10  5341.220215  5365.790039  5331.520020  5360.790039  5360.790039   \n",
       "2024-06-11  5353.000000  5353.000000  5327.250000  5337.569824  5337.569824   \n",
       "\n",
       "                Volume  \n",
       "Date                    \n",
       "1950-01-03     1260000  \n",
       "1950-01-04     1890000  \n",
       "1950-01-05     2550000  \n",
       "1950-01-06     2010000  \n",
       "1950-01-09     2520000  \n",
       "...                ...  \n",
       "2024-06-05  3591460000  \n",
       "2024-06-06  3609990000  \n",
       "2024-06-07  3692760000  \n",
       "2024-06-10  3622280000  \n",
       "2024-06-11   313381365  \n",
       "\n",
       "[18731 rows x 6 columns]"
      ]
     },
     "execution_count": 145,
     "metadata": {},
     "output_type": "execute_result"
    }
   ],
   "source": [
    "import yfinance as yf\n",
    "\n",
    "start = start = '1950-01-01'\n",
    "data = yf.download('^GSPC', start = start)\n",
    "data"
   ]
  },
  {
   "cell_type": "markdown",
   "id": "240cf3f6",
   "metadata": {},
   "source": [
    "We predict direction, not absolute price values as that is more important"
   ]
  },
  {
   "cell_type": "code",
   "execution_count": 146,
   "id": "68957637",
   "metadata": {},
   "outputs": [
    {
     "data": {
      "text/html": [
       "<div>\n",
       "<style scoped>\n",
       "    .dataframe tbody tr th:only-of-type {\n",
       "        vertical-align: middle;\n",
       "    }\n",
       "\n",
       "    .dataframe tbody tr th {\n",
       "        vertical-align: top;\n",
       "    }\n",
       "\n",
       "    .dataframe thead th {\n",
       "        text-align: right;\n",
       "    }\n",
       "</style>\n",
       "<table border=\"1\" class=\"dataframe\">\n",
       "  <thead>\n",
       "    <tr style=\"text-align: right;\">\n",
       "      <th></th>\n",
       "      <th>Open</th>\n",
       "      <th>High</th>\n",
       "      <th>Low</th>\n",
       "      <th>Close</th>\n",
       "      <th>Adj Close</th>\n",
       "      <th>Volume</th>\n",
       "      <th>Tomorrow</th>\n",
       "      <th>Target</th>\n",
       "    </tr>\n",
       "    <tr>\n",
       "      <th>Date</th>\n",
       "      <th></th>\n",
       "      <th></th>\n",
       "      <th></th>\n",
       "      <th></th>\n",
       "      <th></th>\n",
       "      <th></th>\n",
       "      <th></th>\n",
       "      <th></th>\n",
       "    </tr>\n",
       "  </thead>\n",
       "  <tbody>\n",
       "    <tr>\n",
       "      <th>1990-01-09</th>\n",
       "      <td>353.829987</td>\n",
       "      <td>354.170013</td>\n",
       "      <td>349.609985</td>\n",
       "      <td>349.619995</td>\n",
       "      <td>349.619995</td>\n",
       "      <td>155210000</td>\n",
       "      <td>347.309998</td>\n",
       "      <td>0</td>\n",
       "    </tr>\n",
       "    <tr>\n",
       "      <th>1990-01-10</th>\n",
       "      <td>349.619995</td>\n",
       "      <td>349.619995</td>\n",
       "      <td>344.320007</td>\n",
       "      <td>347.309998</td>\n",
       "      <td>347.309998</td>\n",
       "      <td>175990000</td>\n",
       "      <td>348.529999</td>\n",
       "      <td>1</td>\n",
       "    </tr>\n",
       "    <tr>\n",
       "      <th>1990-01-11</th>\n",
       "      <td>347.309998</td>\n",
       "      <td>350.140015</td>\n",
       "      <td>347.309998</td>\n",
       "      <td>348.529999</td>\n",
       "      <td>348.529999</td>\n",
       "      <td>154390000</td>\n",
       "      <td>339.929993</td>\n",
       "      <td>0</td>\n",
       "    </tr>\n",
       "    <tr>\n",
       "      <th>1990-01-12</th>\n",
       "      <td>348.529999</td>\n",
       "      <td>348.529999</td>\n",
       "      <td>339.489990</td>\n",
       "      <td>339.929993</td>\n",
       "      <td>339.929993</td>\n",
       "      <td>183880000</td>\n",
       "      <td>337.000000</td>\n",
       "      <td>0</td>\n",
       "    </tr>\n",
       "    <tr>\n",
       "      <th>1990-01-15</th>\n",
       "      <td>339.929993</td>\n",
       "      <td>339.940002</td>\n",
       "      <td>336.570007</td>\n",
       "      <td>337.000000</td>\n",
       "      <td>337.000000</td>\n",
       "      <td>140590000</td>\n",
       "      <td>340.750000</td>\n",
       "      <td>1</td>\n",
       "    </tr>\n",
       "    <tr>\n",
       "      <th>...</th>\n",
       "      <td>...</td>\n",
       "      <td>...</td>\n",
       "      <td>...</td>\n",
       "      <td>...</td>\n",
       "      <td>...</td>\n",
       "      <td>...</td>\n",
       "      <td>...</td>\n",
       "      <td>...</td>\n",
       "    </tr>\n",
       "    <tr>\n",
       "      <th>2024-06-05</th>\n",
       "      <td>5314.479980</td>\n",
       "      <td>5354.160156</td>\n",
       "      <td>5297.640137</td>\n",
       "      <td>5354.029785</td>\n",
       "      <td>5354.029785</td>\n",
       "      <td>3591460000</td>\n",
       "      <td>5352.959961</td>\n",
       "      <td>0</td>\n",
       "    </tr>\n",
       "    <tr>\n",
       "      <th>2024-06-06</th>\n",
       "      <td>5357.799805</td>\n",
       "      <td>5362.350098</td>\n",
       "      <td>5335.359863</td>\n",
       "      <td>5352.959961</td>\n",
       "      <td>5352.959961</td>\n",
       "      <td>3609990000</td>\n",
       "      <td>5346.990234</td>\n",
       "      <td>0</td>\n",
       "    </tr>\n",
       "    <tr>\n",
       "      <th>2024-06-07</th>\n",
       "      <td>5343.810059</td>\n",
       "      <td>5375.080078</td>\n",
       "      <td>5331.330078</td>\n",
       "      <td>5346.990234</td>\n",
       "      <td>5346.990234</td>\n",
       "      <td>3692760000</td>\n",
       "      <td>5360.790039</td>\n",
       "      <td>1</td>\n",
       "    </tr>\n",
       "    <tr>\n",
       "      <th>2024-06-10</th>\n",
       "      <td>5341.220215</td>\n",
       "      <td>5365.790039</td>\n",
       "      <td>5331.520020</td>\n",
       "      <td>5360.790039</td>\n",
       "      <td>5360.790039</td>\n",
       "      <td>3622280000</td>\n",
       "      <td>5337.569824</td>\n",
       "      <td>0</td>\n",
       "    </tr>\n",
       "    <tr>\n",
       "      <th>2024-06-11</th>\n",
       "      <td>5353.000000</td>\n",
       "      <td>5353.000000</td>\n",
       "      <td>5327.250000</td>\n",
       "      <td>5337.569824</td>\n",
       "      <td>5337.569824</td>\n",
       "      <td>313381365</td>\n",
       "      <td>NaN</td>\n",
       "      <td>0</td>\n",
       "    </tr>\n",
       "  </tbody>\n",
       "</table>\n",
       "<p>8672 rows × 8 columns</p>\n",
       "</div>"
      ],
      "text/plain": [
       "                   Open         High          Low        Close    Adj Close  \\\n",
       "Date                                                                          \n",
       "1990-01-09   353.829987   354.170013   349.609985   349.619995   349.619995   \n",
       "1990-01-10   349.619995   349.619995   344.320007   347.309998   347.309998   \n",
       "1990-01-11   347.309998   350.140015   347.309998   348.529999   348.529999   \n",
       "1990-01-12   348.529999   348.529999   339.489990   339.929993   339.929993   \n",
       "1990-01-15   339.929993   339.940002   336.570007   337.000000   337.000000   \n",
       "...                 ...          ...          ...          ...          ...   \n",
       "2024-06-05  5314.479980  5354.160156  5297.640137  5354.029785  5354.029785   \n",
       "2024-06-06  5357.799805  5362.350098  5335.359863  5352.959961  5352.959961   \n",
       "2024-06-07  5343.810059  5375.080078  5331.330078  5346.990234  5346.990234   \n",
       "2024-06-10  5341.220215  5365.790039  5331.520020  5360.790039  5360.790039   \n",
       "2024-06-11  5353.000000  5353.000000  5327.250000  5337.569824  5337.569824   \n",
       "\n",
       "                Volume     Tomorrow  Target  \n",
       "Date                                         \n",
       "1990-01-09   155210000   347.309998       0  \n",
       "1990-01-10   175990000   348.529999       1  \n",
       "1990-01-11   154390000   339.929993       0  \n",
       "1990-01-12   183880000   337.000000       0  \n",
       "1990-01-15   140590000   340.750000       1  \n",
       "...                ...          ...     ...  \n",
       "2024-06-05  3591460000  5352.959961       0  \n",
       "2024-06-06  3609990000  5346.990234       0  \n",
       "2024-06-07  3692760000  5360.790039       1  \n",
       "2024-06-10  3622280000  5337.569824       0  \n",
       "2024-06-11   313381365          NaN       0  \n",
       "\n",
       "[8672 rows x 8 columns]"
      ]
     },
     "execution_count": 146,
     "metadata": {},
     "output_type": "execute_result"
    }
   ],
   "source": [
    "data['Tomorrow'] = data['Close'].shift(-1)\n",
    "data['Target'] = (data['Tomorrow'] > data['Close']).astype(int)\n",
    "data = data.loc['1990-01-09':].copy()\n",
    "data"
   ]
  },
  {
   "cell_type": "code",
   "execution_count": 65,
   "id": "2a79a84c",
   "metadata": {},
   "outputs": [],
   "source": [
    "from sklearn.model_selection import GridSearchCV, TimeSeriesSplit\n",
    "\n",
    "model = RandomForestClassifier(random_state=1)\n",
    "\n",
    "param_grid = {\n",
    "    'n_estimators': [100, 200, 300, 500],\n",
    "    'min_samples_split': [2, 10, 50, 100]\n",
    "}\n",
    "\n",
    "tscv = TimeSeriesSplit(n_splits=5)\n",
    "\n",
    "grid_search = GridSearchCV(estimator=model, param_grid=param_grid, cv=tscv, scoring='precision', n_jobs=-1)\n",
    "grid_search.fit(train[predictors], train['Target'])\n",
    "\n",
    "best_params = grid_search.best_params_"
   ]
  },
  {
   "cell_type": "code",
   "execution_count": 66,
   "id": "eb3675c8",
   "metadata": {},
   "outputs": [
    {
     "data": {
      "text/plain": [
       "{'min_samples_split': 100, 'n_estimators': 500}"
      ]
     },
     "execution_count": 66,
     "metadata": {},
     "output_type": "execute_result"
    }
   ],
   "source": [
    "best_params"
   ]
  },
  {
   "cell_type": "code",
   "execution_count": 67,
   "id": "868d36f6",
   "metadata": {},
   "outputs": [
    {
     "data": {
      "text/html": [
       "<style>#sk-container-id-6 {color: black;}#sk-container-id-6 pre{padding: 0;}#sk-container-id-6 div.sk-toggleable {background-color: white;}#sk-container-id-6 label.sk-toggleable__label {cursor: pointer;display: block;width: 100%;margin-bottom: 0;padding: 0.3em;box-sizing: border-box;text-align: center;}#sk-container-id-6 label.sk-toggleable__label-arrow:before {content: \"▸\";float: left;margin-right: 0.25em;color: #696969;}#sk-container-id-6 label.sk-toggleable__label-arrow:hover:before {color: black;}#sk-container-id-6 div.sk-estimator:hover label.sk-toggleable__label-arrow:before {color: black;}#sk-container-id-6 div.sk-toggleable__content {max-height: 0;max-width: 0;overflow: hidden;text-align: left;background-color: #f0f8ff;}#sk-container-id-6 div.sk-toggleable__content pre {margin: 0.2em;color: black;border-radius: 0.25em;background-color: #f0f8ff;}#sk-container-id-6 input.sk-toggleable__control:checked~div.sk-toggleable__content {max-height: 200px;max-width: 100%;overflow: auto;}#sk-container-id-6 input.sk-toggleable__control:checked~label.sk-toggleable__label-arrow:before {content: \"▾\";}#sk-container-id-6 div.sk-estimator input.sk-toggleable__control:checked~label.sk-toggleable__label {background-color: #d4ebff;}#sk-container-id-6 div.sk-label input.sk-toggleable__control:checked~label.sk-toggleable__label {background-color: #d4ebff;}#sk-container-id-6 input.sk-hidden--visually {border: 0;clip: rect(1px 1px 1px 1px);clip: rect(1px, 1px, 1px, 1px);height: 1px;margin: -1px;overflow: hidden;padding: 0;position: absolute;width: 1px;}#sk-container-id-6 div.sk-estimator {font-family: monospace;background-color: #f0f8ff;border: 1px dotted black;border-radius: 0.25em;box-sizing: border-box;margin-bottom: 0.5em;}#sk-container-id-6 div.sk-estimator:hover {background-color: #d4ebff;}#sk-container-id-6 div.sk-parallel-item::after {content: \"\";width: 100%;border-bottom: 1px solid gray;flex-grow: 1;}#sk-container-id-6 div.sk-label:hover label.sk-toggleable__label {background-color: #d4ebff;}#sk-container-id-6 div.sk-serial::before {content: \"\";position: absolute;border-left: 1px solid gray;box-sizing: border-box;top: 0;bottom: 0;left: 50%;z-index: 0;}#sk-container-id-6 div.sk-serial {display: flex;flex-direction: column;align-items: center;background-color: white;padding-right: 0.2em;padding-left: 0.2em;position: relative;}#sk-container-id-6 div.sk-item {position: relative;z-index: 1;}#sk-container-id-6 div.sk-parallel {display: flex;align-items: stretch;justify-content: center;background-color: white;position: relative;}#sk-container-id-6 div.sk-item::before, #sk-container-id-6 div.sk-parallel-item::before {content: \"\";position: absolute;border-left: 1px solid gray;box-sizing: border-box;top: 0;bottom: 0;left: 50%;z-index: -1;}#sk-container-id-6 div.sk-parallel-item {display: flex;flex-direction: column;z-index: 1;position: relative;background-color: white;}#sk-container-id-6 div.sk-parallel-item:first-child::after {align-self: flex-end;width: 50%;}#sk-container-id-6 div.sk-parallel-item:last-child::after {align-self: flex-start;width: 50%;}#sk-container-id-6 div.sk-parallel-item:only-child::after {width: 0;}#sk-container-id-6 div.sk-dashed-wrapped {border: 1px dashed gray;margin: 0 0.4em 0.5em 0.4em;box-sizing: border-box;padding-bottom: 0.4em;background-color: white;}#sk-container-id-6 div.sk-label label {font-family: monospace;font-weight: bold;display: inline-block;line-height: 1.2em;}#sk-container-id-6 div.sk-label-container {text-align: center;}#sk-container-id-6 div.sk-container {/* jupyter's `normalize.less` sets `[hidden] { display: none; }` but bootstrap.min.css set `[hidden] { display: none !important; }` so we also need the `!important` here to be able to override the default hidden behavior on the sphinx rendered scikit-learn.org. See: https://github.com/scikit-learn/scikit-learn/issues/21755 */display: inline-block !important;position: relative;}#sk-container-id-6 div.sk-text-repr-fallback {display: none;}</style><div id=\"sk-container-id-6\" class=\"sk-top-container\"><div class=\"sk-text-repr-fallback\"><pre>RandomForestClassifier(min_samples_split=100, n_estimators=300, random_state=1)</pre><b>In a Jupyter environment, please rerun this cell to show the HTML representation or trust the notebook. <br />On GitHub, the HTML representation is unable to render, please try loading this page with nbviewer.org.</b></div><div class=\"sk-container\" hidden><div class=\"sk-item\"><div class=\"sk-estimator sk-toggleable\"><input class=\"sk-toggleable__control sk-hidden--visually\" id=\"sk-estimator-id-6\" type=\"checkbox\" checked><label for=\"sk-estimator-id-6\" class=\"sk-toggleable__label sk-toggleable__label-arrow\">RandomForestClassifier</label><div class=\"sk-toggleable__content\"><pre>RandomForestClassifier(min_samples_split=100, n_estimators=300, random_state=1)</pre></div></div></div></div></div>"
      ],
      "text/plain": [
       "RandomForestClassifier(min_samples_split=100, n_estimators=300, random_state=1)"
      ]
     },
     "execution_count": 67,
     "metadata": {},
     "output_type": "execute_result"
    }
   ],
   "source": [
    "from sklearn.ensemble import RandomForestClassifier# as rfc\n",
    "\n",
    "model = RandomForestClassifier(n_estimators = 300, min_samples_split = 100, random_state = 1)\n",
    "\n",
    "train = data.iloc[:-100]\n",
    "test = data.iloc[-100:]\n",
    "\n",
    "predictors = ['Close', 'Volume', 'Open', 'High', 'Low']\n",
    "model.fit(train[predictors], train['Target'])"
   ]
  },
  {
   "cell_type": "code",
   "execution_count": 68,
   "id": "4078ef5d",
   "metadata": {},
   "outputs": [
    {
     "data": {
      "text/plain": [
       "array([0, 0, 0, 1, 1, 0, 0, 0, 0, 0, 0, 0, 0, 0, 0, 0, 0, 0, 0, 0, 0, 0,\n",
       "       0, 0, 0, 0, 0, 0, 0, 0, 0, 0, 0, 0, 0, 0, 0, 0, 0, 0, 0, 0, 0, 0,\n",
       "       0, 0, 0, 0, 0, 0, 0, 0, 0, 0, 0, 0, 0, 0, 0, 0, 0, 0, 0, 0, 0, 0,\n",
       "       0, 0, 0, 0, 0, 0, 0, 0, 0, 0, 0, 0, 0, 0, 0, 0, 0, 0, 0, 0, 0, 0,\n",
       "       0, 0, 0, 0, 0, 0, 0, 0, 0, 0, 0, 0])"
      ]
     },
     "execution_count": 68,
     "metadata": {},
     "output_type": "execute_result"
    }
   ],
   "source": [
    "from sklearn.metrics import precision_score\n",
    "\n",
    "preds = model.predict(test[predictors])\n",
    "preds"
   ]
  },
  {
   "cell_type": "code",
   "execution_count": 69,
   "id": "d9fd532a",
   "metadata": {},
   "outputs": [
    {
     "data": {
      "text/plain": [
       "Date\n",
       "2024-01-10    0\n",
       "2024-01-11    0\n",
       "2024-01-12    0\n",
       "2024-01-16    1\n",
       "2024-01-17    1\n",
       "             ..\n",
       "2024-05-28    0\n",
       "2024-05-29    0\n",
       "2024-05-30    0\n",
       "2024-05-31    0\n",
       "2024-06-03    0\n",
       "Length: 100, dtype: int32"
      ]
     },
     "execution_count": 69,
     "metadata": {},
     "output_type": "execute_result"
    }
   ],
   "source": [
    "import pandas as pd\n",
    "\n",
    "preds = pd.Series(preds, index = test.index)\n",
    "preds"
   ]
  },
  {
   "cell_type": "code",
   "execution_count": 70,
   "id": "f5617a41",
   "metadata": {},
   "outputs": [
    {
     "data": {
      "text/plain": [
       "0.5"
      ]
     },
     "execution_count": 70,
     "metadata": {},
     "output_type": "execute_result"
    }
   ],
   "source": [
    "precision_score(test['Target'], preds)"
   ]
  },
  {
   "cell_type": "code",
   "execution_count": 71,
   "id": "3af0238e",
   "metadata": {},
   "outputs": [
    {
     "data": {
      "text/plain": [
       "Date\n",
       "2024-01-10    0\n",
       "2024-01-11    1\n",
       "2024-01-12    0\n",
       "2024-01-16    0\n",
       "2024-01-17    1\n",
       "             ..\n",
       "2024-05-28    0\n",
       "2024-05-29    0\n",
       "2024-05-30    1\n",
       "2024-05-31    1\n",
       "2024-06-03    0\n",
       "Name: Target, Length: 100, dtype: int32"
      ]
     },
     "execution_count": 71,
     "metadata": {},
     "output_type": "execute_result"
    }
   ],
   "source": [
    "test['Target']"
   ]
  },
  {
   "cell_type": "code",
   "execution_count": 75,
   "id": "b9c570de",
   "metadata": {},
   "outputs": [],
   "source": [
    "def predict(train, test, predictors, model):\n",
    "    model.fit(train[predictors], train['Target'])\n",
    "    preds = model.predict(test[predictors])\n",
    "    preds = pd.Series(preds, index = test.index, name = 'Predictions')\n",
    "    combined = pd.concat([test['Target'], preds], axis = 1)\n",
    "    return combined"
   ]
  },
  {
   "cell_type": "code",
   "execution_count": 102,
   "id": "f5e42204",
   "metadata": {},
   "outputs": [],
   "source": [
    "def backtest(data, model, predictors, start = 2500, step = 250):\n",
    "    all_predictions = []\n",
    "    for i in range(start, data.shape[0], step):\n",
    "        train = data.iloc[0:i].copy()\n",
    "        test = data.iloc[i:(i + step)].copy()\n",
    "        predictions = predict(train, test, predictors, model)\n",
    "        all_predictions.append(predictions)\n",
    "    return pd.concat(all_predictions)"
   ]
  },
  {
   "cell_type": "code",
   "execution_count": 77,
   "id": "d260f19d",
   "metadata": {},
   "outputs": [],
   "source": [
    "predictions = backtest(data, model, predictors)"
   ]
  },
  {
   "cell_type": "code",
   "execution_count": 79,
   "id": "cadfafc6",
   "metadata": {},
   "outputs": [
    {
     "data": {
      "text/plain": [
       "Predictions\n",
       "0    3208\n",
       "1    2958\n",
       "Name: count, dtype: int64"
      ]
     },
     "execution_count": 79,
     "metadata": {},
     "output_type": "execute_result"
    }
   ],
   "source": [
    "predictions['Predictions'].value_counts()"
   ]
  },
  {
   "cell_type": "code",
   "execution_count": 80,
   "id": "155b5081",
   "metadata": {},
   "outputs": [
    {
     "data": {
      "text/plain": [
       "0.5294117647058824"
      ]
     },
     "execution_count": 80,
     "metadata": {},
     "output_type": "execute_result"
    }
   ],
   "source": [
    "precision_score(predictions['Target'], predictions['Predictions'])"
   ]
  },
  {
   "cell_type": "code",
   "execution_count": 81,
   "id": "1490223a",
   "metadata": {},
   "outputs": [
    {
     "data": {
      "text/plain": [
       "Target\n",
       "1    0.535031\n",
       "0    0.464969\n",
       "Name: count, dtype: float64"
      ]
     },
     "execution_count": 81,
     "metadata": {},
     "output_type": "execute_result"
    }
   ],
   "source": [
    "predictions['Target'].value_counts() / predictions.shape[0]"
   ]
  },
  {
   "cell_type": "code",
   "execution_count": 147,
   "id": "e0a57a4c",
   "metadata": {},
   "outputs": [],
   "source": [
    "horizons = [2, 5, 60, 250, 1000]\n",
    "new_predictors = []\n",
    "\n",
    "for horizon in horizons:\n",
    "    rolling_averages = data.rolling(horizon).mean()\n",
    "    \n",
    "    ratio_column = f\"Close_ratio_{horizon}\"\n",
    "    data[ratio_column] = data['Close'] / rolling_averages['Close']\n",
    "    \n",
    "    trend_column = f\"Trend_{horizon}\"\n",
    "    data[trend_column] = data.shift(1).rolling(horizon).sum()['Target']\n",
    "    #New_predictors.append(ratio_column)\n",
    "    #new_predictors.append(trend_column)\n",
    "    new_predictors += [ratio_column, trend_column]"
   ]
  },
  {
   "cell_type": "code",
   "execution_count": 148,
   "id": "472936e5",
   "metadata": {},
   "outputs": [
    {
     "data": {
      "text/html": [
       "<div>\n",
       "<style scoped>\n",
       "    .dataframe tbody tr th:only-of-type {\n",
       "        vertical-align: middle;\n",
       "    }\n",
       "\n",
       "    .dataframe tbody tr th {\n",
       "        vertical-align: top;\n",
       "    }\n",
       "\n",
       "    .dataframe thead th {\n",
       "        text-align: right;\n",
       "    }\n",
       "</style>\n",
       "<table border=\"1\" class=\"dataframe\">\n",
       "  <thead>\n",
       "    <tr style=\"text-align: right;\">\n",
       "      <th></th>\n",
       "      <th>Close_ratio_2</th>\n",
       "      <th>Trend_2</th>\n",
       "      <th>Close_ratio_5</th>\n",
       "      <th>Trend_5</th>\n",
       "      <th>Close_ratio_60</th>\n",
       "      <th>Trend_60</th>\n",
       "      <th>Close_ratio_250</th>\n",
       "      <th>Trend_250</th>\n",
       "      <th>Close_ratio_1000</th>\n",
       "      <th>Trend_1000</th>\n",
       "    </tr>\n",
       "    <tr>\n",
       "      <th>Date</th>\n",
       "      <th></th>\n",
       "      <th></th>\n",
       "      <th></th>\n",
       "      <th></th>\n",
       "      <th></th>\n",
       "      <th></th>\n",
       "      <th></th>\n",
       "      <th></th>\n",
       "      <th></th>\n",
       "      <th></th>\n",
       "    </tr>\n",
       "  </thead>\n",
       "  <tbody>\n",
       "    <tr>\n",
       "      <th>1990-01-09</th>\n",
       "      <td>NaN</td>\n",
       "      <td>NaN</td>\n",
       "      <td>NaN</td>\n",
       "      <td>NaN</td>\n",
       "      <td>NaN</td>\n",
       "      <td>NaN</td>\n",
       "      <td>NaN</td>\n",
       "      <td>NaN</td>\n",
       "      <td>NaN</td>\n",
       "      <td>NaN</td>\n",
       "    </tr>\n",
       "    <tr>\n",
       "      <th>1990-01-10</th>\n",
       "      <td>0.996685</td>\n",
       "      <td>NaN</td>\n",
       "      <td>NaN</td>\n",
       "      <td>NaN</td>\n",
       "      <td>NaN</td>\n",
       "      <td>NaN</td>\n",
       "      <td>NaN</td>\n",
       "      <td>NaN</td>\n",
       "      <td>NaN</td>\n",
       "      <td>NaN</td>\n",
       "    </tr>\n",
       "    <tr>\n",
       "      <th>1990-01-11</th>\n",
       "      <td>1.001753</td>\n",
       "      <td>1.0</td>\n",
       "      <td>NaN</td>\n",
       "      <td>NaN</td>\n",
       "      <td>NaN</td>\n",
       "      <td>NaN</td>\n",
       "      <td>NaN</td>\n",
       "      <td>NaN</td>\n",
       "      <td>NaN</td>\n",
       "      <td>NaN</td>\n",
       "    </tr>\n",
       "    <tr>\n",
       "      <th>1990-01-12</th>\n",
       "      <td>0.987508</td>\n",
       "      <td>1.0</td>\n",
       "      <td>NaN</td>\n",
       "      <td>NaN</td>\n",
       "      <td>NaN</td>\n",
       "      <td>NaN</td>\n",
       "      <td>NaN</td>\n",
       "      <td>NaN</td>\n",
       "      <td>NaN</td>\n",
       "      <td>NaN</td>\n",
       "    </tr>\n",
       "    <tr>\n",
       "      <th>1990-01-15</th>\n",
       "      <td>0.995672</td>\n",
       "      <td>0.0</td>\n",
       "      <td>0.978292</td>\n",
       "      <td>NaN</td>\n",
       "      <td>NaN</td>\n",
       "      <td>NaN</td>\n",
       "      <td>NaN</td>\n",
       "      <td>NaN</td>\n",
       "      <td>NaN</td>\n",
       "      <td>NaN</td>\n",
       "    </tr>\n",
       "    <tr>\n",
       "      <th>...</th>\n",
       "      <td>...</td>\n",
       "      <td>...</td>\n",
       "      <td>...</td>\n",
       "      <td>...</td>\n",
       "      <td>...</td>\n",
       "      <td>...</td>\n",
       "      <td>...</td>\n",
       "      <td>...</td>\n",
       "      <td>...</td>\n",
       "      <td>...</td>\n",
       "    </tr>\n",
       "    <tr>\n",
       "      <th>2024-06-05</th>\n",
       "      <td>1.005889</td>\n",
       "      <td>2.0</td>\n",
       "      <td>1.012419</td>\n",
       "      <td>4.0</td>\n",
       "      <td>1.032468</td>\n",
       "      <td>33.0</td>\n",
       "      <td>1.134136</td>\n",
       "      <td>141.0</td>\n",
       "      <td>1.275185</td>\n",
       "      <td>531.0</td>\n",
       "    </tr>\n",
       "    <tr>\n",
       "      <th>2024-06-06</th>\n",
       "      <td>0.999900</td>\n",
       "      <td>1.0</td>\n",
       "      <td>1.007740</td>\n",
       "      <td>4.0</td>\n",
       "      <td>1.031673</td>\n",
       "      <td>32.0</td>\n",
       "      <td>1.132893</td>\n",
       "      <td>140.0</td>\n",
       "      <td>1.274254</td>\n",
       "      <td>530.0</td>\n",
       "    </tr>\n",
       "    <tr>\n",
       "      <th>2024-06-07</th>\n",
       "      <td>0.999442</td>\n",
       "      <td>0.0</td>\n",
       "      <td>1.003989</td>\n",
       "      <td>3.0</td>\n",
       "      <td>1.029921</td>\n",
       "      <td>32.0</td>\n",
       "      <td>1.130627</td>\n",
       "      <td>139.0</td>\n",
       "      <td>1.272156</td>\n",
       "      <td>530.0</td>\n",
       "    </tr>\n",
       "    <tr>\n",
       "      <th>2024-06-10</th>\n",
       "      <td>1.001289</td>\n",
       "      <td>1.0</td>\n",
       "      <td>1.003664</td>\n",
       "      <td>3.0</td>\n",
       "      <td>1.031883</td>\n",
       "      <td>33.0</td>\n",
       "      <td>1.132566</td>\n",
       "      <td>139.0</td>\n",
       "      <td>1.274758</td>\n",
       "      <td>530.0</td>\n",
       "    </tr>\n",
       "    <tr>\n",
       "      <th>2024-06-11</th>\n",
       "      <td>0.997830</td>\n",
       "      <td>1.0</td>\n",
       "      <td>0.997589</td>\n",
       "      <td>2.0</td>\n",
       "      <td>1.026687</td>\n",
       "      <td>33.0</td>\n",
       "      <td>1.126738</td>\n",
       "      <td>138.0</td>\n",
       "      <td>1.268561</td>\n",
       "      <td>530.0</td>\n",
       "    </tr>\n",
       "  </tbody>\n",
       "</table>\n",
       "<p>8672 rows × 10 columns</p>\n",
       "</div>"
      ],
      "text/plain": [
       "            Close_ratio_2  Trend_2  Close_ratio_5  Trend_5  Close_ratio_60  \\\n",
       "Date                                                                         \n",
       "1990-01-09            NaN      NaN            NaN      NaN             NaN   \n",
       "1990-01-10       0.996685      NaN            NaN      NaN             NaN   \n",
       "1990-01-11       1.001753      1.0            NaN      NaN             NaN   \n",
       "1990-01-12       0.987508      1.0            NaN      NaN             NaN   \n",
       "1990-01-15       0.995672      0.0       0.978292      NaN             NaN   \n",
       "...                   ...      ...            ...      ...             ...   \n",
       "2024-06-05       1.005889      2.0       1.012419      4.0        1.032468   \n",
       "2024-06-06       0.999900      1.0       1.007740      4.0        1.031673   \n",
       "2024-06-07       0.999442      0.0       1.003989      3.0        1.029921   \n",
       "2024-06-10       1.001289      1.0       1.003664      3.0        1.031883   \n",
       "2024-06-11       0.997830      1.0       0.997589      2.0        1.026687   \n",
       "\n",
       "            Trend_60  Close_ratio_250  Trend_250  Close_ratio_1000  Trend_1000  \n",
       "Date                                                                            \n",
       "1990-01-09       NaN              NaN        NaN               NaN         NaN  \n",
       "1990-01-10       NaN              NaN        NaN               NaN         NaN  \n",
       "1990-01-11       NaN              NaN        NaN               NaN         NaN  \n",
       "1990-01-12       NaN              NaN        NaN               NaN         NaN  \n",
       "1990-01-15       NaN              NaN        NaN               NaN         NaN  \n",
       "...              ...              ...        ...               ...         ...  \n",
       "2024-06-05      33.0         1.134136      141.0          1.275185       531.0  \n",
       "2024-06-06      32.0         1.132893      140.0          1.274254       530.0  \n",
       "2024-06-07      32.0         1.130627      139.0          1.272156       530.0  \n",
       "2024-06-10      33.0         1.132566      139.0          1.274758       530.0  \n",
       "2024-06-11      33.0         1.126738      138.0          1.268561       530.0  \n",
       "\n",
       "[8672 rows x 10 columns]"
      ]
     },
     "execution_count": 148,
     "metadata": {},
     "output_type": "execute_result"
    }
   ],
   "source": [
    "data[new_predictors]"
   ]
  },
  {
   "cell_type": "code",
   "execution_count": 149,
   "id": "6807ab40",
   "metadata": {},
   "outputs": [],
   "source": [
    "data = data.dropna()"
   ]
  },
  {
   "cell_type": "code",
   "execution_count": 150,
   "id": "2f013981",
   "metadata": {},
   "outputs": [],
   "source": [
    "model = RandomForestClassifier(n_estimators = 300, min_samples_split = 50, random_state = 1)"
   ]
  },
  {
   "cell_type": "code",
   "execution_count": 151,
   "id": "cc89b2d8",
   "metadata": {},
   "outputs": [],
   "source": [
    "def predict(train, test, predictors, model):\n",
    "    model.fit(train[predictors], train['Target'])\n",
    "    preds = model.predict_proba(test[predictors])[:, 1]\n",
    "    preds[preds >= 0.6] = 1\n",
    "    preds[preds < 0.6] = 0\n",
    "    preds = pd.Series(preds, index = test.index, name = 'Predictions')\n",
    "    combined = pd.concat([test['Target'], preds], axis = 1)\n",
    "    return combined"
   ]
  },
  {
   "cell_type": "code",
   "execution_count": 152,
   "id": "fddecba6",
   "metadata": {},
   "outputs": [],
   "source": [
    "predictions = backtest(data, model, new_predictors)"
   ]
  },
  {
   "cell_type": "code",
   "execution_count": 153,
   "id": "22a452dc",
   "metadata": {},
   "outputs": [
    {
     "data": {
      "text/plain": [
       "Predictions\n",
       "0.0    4364\n",
       "1.0     807\n",
       "Name: count, dtype: int64"
      ]
     },
     "execution_count": 153,
     "metadata": {},
     "output_type": "execute_result"
    }
   ],
   "source": [
    "predictions['Predictions'].value_counts()"
   ]
  },
  {
   "cell_type": "code",
   "execution_count": 154,
   "id": "97a8a810",
   "metadata": {},
   "outputs": [
    {
     "data": {
      "text/plain": [
       "0.5700123915737298"
      ]
     },
     "execution_count": 154,
     "metadata": {},
     "output_type": "execute_result"
    }
   ],
   "source": [
    "precision_score(predictions['Target'], predictions['Predictions'])"
   ]
  },
  {
   "cell_type": "code",
   "execution_count": null,
   "id": "a0ace269",
   "metadata": {},
   "outputs": [],
   "source": []
  }
 ],
 "metadata": {
  "kernelspec": {
   "display_name": "Python 3 (ipykernel)",
   "language": "python",
   "name": "python3"
  },
  "language_info": {
   "codemirror_mode": {
    "name": "ipython",
    "version": 3
   },
   "file_extension": ".py",
   "mimetype": "text/x-python",
   "name": "python",
   "nbconvert_exporter": "python",
   "pygments_lexer": "ipython3",
   "version": "3.11.5"
  }
 },
 "nbformat": 4,
 "nbformat_minor": 5
}
