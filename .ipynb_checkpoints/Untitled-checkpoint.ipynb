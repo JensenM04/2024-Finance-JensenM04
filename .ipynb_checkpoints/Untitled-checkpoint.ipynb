{
 "cells": [
  {
   "cell_type": "code",
   "execution_count": 19,
   "id": "2805383c",
   "metadata": {},
   "outputs": [],
   "source": [
    "from bs4 import BeautifulSoup\n",
    "import requests\n",
    "import re\n",
    "import pandas as pd\n",
    "import numpy as np\n",
    "\n",
    "url = 'https://www.fotmob.com/en-GB/teams/10007/fixtures/stockport-county'\n",
    "r = requests.get(url)\n",
    "soup = BeautifulSoup(r.content, 'html.parser')"
   ]
  },
  {
   "cell_type": "code",
   "execution_count": 50,
   "id": "1aa27972",
   "metadata": {},
   "outputs": [],
   "source": [
    "url = 'https://www.fotmob.com/en-GB/teams/10007/fixtures/stockport-county'\n",
    "r = requests.get(url)\n",
    "soup = BeautifulSoup(r.content, 'html.parser')\n",
    "teams = soup.find('div', class_ = 'css-3pe8w3-TableWrapper e1f2vaht0')\n",
    "teams"
   ]
  },
  {
   "cell_type": "code",
   "execution_count": 51,
   "id": "c9b5c61b",
   "metadata": {},
   "outputs": [],
   "source": []
  },
  {
   "cell_type": "code",
   "execution_count": 48,
   "id": "1d4b1239",
   "metadata": {},
   "outputs": [
    {
     "name": "stdout",
     "output_type": "stream",
     "text": [
      "1 - 0\n",
      "1 - 0\n",
      "1 - 6\n",
      "2 - 0\n",
      "1 - 6\n",
      "0 - 3\n",
      "2 - 0\n",
      "1 - 1\n"
     ]
    }
   ],
   "source": [
    "url = 'https://www.fotmob.com/en-GB/teams/10007/fixtures/stockport-county'\n",
    "r = requests.get(url)\n",
    "soup = BeautifulSoup(r.content, 'html.parser')\n",
    "div = soup.find('div', class_ = 'css-1mvr87o-FixturesCardCSS ep1hw9x0')\n",
    "href = div.find_all('a')\n",
    "links = []\n",
    "for item in href:\n",
    "    ref = item.get('href')\n",
    "    url = f\"https://www.fotmob.com{ref}\"\n",
    "    r = requests.get(url)\n",
    "    soup = BeautifulSoup(r.content, 'html.parser')\n",
    "    ul = soup.find('div', class_ = 'css-1cf82ng-MFHeaderStatusWrapper emg45p20')\n",
    "    ul2 = ul.find('span', class_ = 'css-ktw5ic-MFHeaderStatusScore emg45p23')\n",
    "    print(ul2.text)"
   ]
  },
  {
   "cell_type": "code",
   "execution_count": 38,
   "id": "f3ef7893",
   "metadata": {},
   "outputs": [
    {
     "data": {
      "text/plain": [
       "'/en-GB/matches/stockport-county-vs-derby/3d7c6r#4554431'"
      ]
     },
     "execution_count": 38,
     "metadata": {},
     "output_type": "execute_result"
    }
   ],
   "source": [
    "ref = href[0].get('href')"
   ]
  },
  {
   "cell_type": "code",
   "execution_count": 18,
   "id": "b6bf0957",
   "metadata": {},
   "outputs": [
    {
     "data": {
      "text/plain": [
       "'1 - 0'"
      ]
     },
     "execution_count": 18,
     "metadata": {},
     "output_type": "execute_result"
    }
   ],
   "source": [
    "ul = soup.find('div', class_ = 'css-1cf82ng-MFHeaderStatusWrapper emg45p20')\n",
    "ul2 = ul.find('span', class_ = 'css-ktw5ic-MFHeaderStatusScore emg45p23')\n",
    "ul2.text"
   ]
  },
  {
   "cell_type": "code",
   "execution_count": null,
   "id": "3c7f41d1",
   "metadata": {},
   "outputs": [],
   "source": []
  }
 ],
 "metadata": {
  "kernelspec": {
   "display_name": "Python 3 (ipykernel)",
   "language": "python",
   "name": "python3"
  },
  "language_info": {
   "codemirror_mode": {
    "name": "ipython",
    "version": 3
   },
   "file_extension": ".py",
   "mimetype": "text/x-python",
   "name": "python",
   "nbconvert_exporter": "python",
   "pygments_lexer": "ipython3",
   "version": "3.11.5"
  }
 },
 "nbformat": 4,
 "nbformat_minor": 5
}
