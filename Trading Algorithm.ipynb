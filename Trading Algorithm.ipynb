{
 "cells": [
  {
   "cell_type": "code",
   "execution_count": 22,
   "id": "0de8515d",
   "metadata": {},
   "outputs": [
    {
     "ename": "AuthenticationError",
     "evalue": "binance {\"code\":-2008,\"msg\":\"Invalid Api-Key ID.\"}",
     "output_type": "error",
     "traceback": [
      "\u001b[1;31m---------------------------------------------------------------------------\u001b[0m",
      "\u001b[1;31mHTTPError\u001b[0m                                 Traceback (most recent call last)",
      "File \u001b[1;32m~\\anaconda3\\Lib\\site-packages\\ccxt\\base\\exchange.py:564\u001b[0m, in \u001b[0;36mExchange.fetch\u001b[1;34m(self, url, method, headers, body)\u001b[0m\n\u001b[0;32m    563\u001b[0m     \u001b[38;5;28mself\u001b[39m\u001b[38;5;241m.\u001b[39mlogger\u001b[38;5;241m.\u001b[39mdebug(\u001b[38;5;124m\"\u001b[39m\u001b[38;5;132;01m%s\u001b[39;00m\u001b[38;5;124m \u001b[39m\u001b[38;5;132;01m%s\u001b[39;00m\u001b[38;5;124m, Response: \u001b[39m\u001b[38;5;132;01m%s\u001b[39;00m\u001b[38;5;124m \u001b[39m\u001b[38;5;132;01m%s\u001b[39;00m\u001b[38;5;124m \u001b[39m\u001b[38;5;132;01m%s\u001b[39;00m\u001b[38;5;124m\"\u001b[39m, method, url, http_status_code, headers, http_response)\n\u001b[1;32m--> 564\u001b[0m     response\u001b[38;5;241m.\u001b[39mraise_for_status()\n\u001b[0;32m    566\u001b[0m \u001b[38;5;28;01mexcept\u001b[39;00m Timeout \u001b[38;5;28;01mas\u001b[39;00m e:\n",
      "File \u001b[1;32m~\\anaconda3\\Lib\\site-packages\\requests\\models.py:1021\u001b[0m, in \u001b[0;36mResponse.raise_for_status\u001b[1;34m(self)\u001b[0m\n\u001b[0;32m   1020\u001b[0m \u001b[38;5;28;01mif\u001b[39;00m http_error_msg:\n\u001b[1;32m-> 1021\u001b[0m     \u001b[38;5;28;01mraise\u001b[39;00m HTTPError(http_error_msg, response\u001b[38;5;241m=\u001b[39m\u001b[38;5;28mself\u001b[39m)\n",
      "\u001b[1;31mHTTPError\u001b[0m: 400 Client Error:  for url: https://api.binance.com/sapi/v1/capital/config/getall?timestamp=1752064735041&recvWindow=10000&signature=edc08de7c5542baa7b70868f0f477868148d69bcdd8d27500142d1338b27fc68",
      "\nDuring handling of the above exception, another exception occurred:\n",
      "\u001b[1;31mAuthenticationError\u001b[0m                       Traceback (most recent call last)",
      "Cell \u001b[1;32mIn[22], line 15\u001b[0m\n\u001b[0;32m      8\u001b[0m api_secret \u001b[38;5;241m=\u001b[39m keys[\u001b[38;5;124m'\u001b[39m\u001b[38;5;124mapi_secret\u001b[39m\u001b[38;5;124m'\u001b[39m]\n\u001b[0;32m     10\u001b[0m exchange \u001b[38;5;241m=\u001b[39m ccxt\u001b[38;5;241m.\u001b[39mbinance({\n\u001b[0;32m     11\u001b[0m     \u001b[38;5;124m'\u001b[39m\u001b[38;5;124mapiKey\u001b[39m\u001b[38;5;124m'\u001b[39m: api_key,\n\u001b[0;32m     12\u001b[0m     \u001b[38;5;124m'\u001b[39m\u001b[38;5;124msecret\u001b[39m\u001b[38;5;124m'\u001b[39m: api_secret,\n\u001b[0;32m     13\u001b[0m     \u001b[38;5;124m'\u001b[39m\u001b[38;5;124menableRateLimit\u001b[39m\u001b[38;5;124m'\u001b[39m: \u001b[38;5;28;01mTrue\u001b[39;00m\n\u001b[0;32m     14\u001b[0m })\n\u001b[1;32m---> 15\u001b[0m exchange\u001b[38;5;241m.\u001b[39mload_markets()\n",
      "File \u001b[1;32m~\\anaconda3\\Lib\\site-packages\\ccxt\\base\\exchange.py:1497\u001b[0m, in \u001b[0;36mExchange.load_markets\u001b[1;34m(self, reload, params)\u001b[0m\n\u001b[0;32m   1495\u001b[0m currencies \u001b[38;5;241m=\u001b[39m \u001b[38;5;28;01mNone\u001b[39;00m\n\u001b[0;32m   1496\u001b[0m \u001b[38;5;28;01mif\u001b[39;00m \u001b[38;5;28mself\u001b[39m\u001b[38;5;241m.\u001b[39mhas[\u001b[38;5;124m'\u001b[39m\u001b[38;5;124mfetchCurrencies\u001b[39m\u001b[38;5;124m'\u001b[39m] \u001b[38;5;129;01mis\u001b[39;00m \u001b[38;5;28;01mTrue\u001b[39;00m:\n\u001b[1;32m-> 1497\u001b[0m     currencies \u001b[38;5;241m=\u001b[39m \u001b[38;5;28mself\u001b[39m\u001b[38;5;241m.\u001b[39mfetch_currencies()\n\u001b[0;32m   1498\u001b[0m markets \u001b[38;5;241m=\u001b[39m \u001b[38;5;28mself\u001b[39m\u001b[38;5;241m.\u001b[39mfetch_markets(params)\n\u001b[0;32m   1499\u001b[0m \u001b[38;5;28;01mreturn\u001b[39;00m \u001b[38;5;28mself\u001b[39m\u001b[38;5;241m.\u001b[39mset_markets(markets, currencies)\n",
      "File \u001b[1;32m~\\anaconda3\\Lib\\site-packages\\ccxt\\binance.py:2652\u001b[0m, in \u001b[0;36mbinance.fetch_currencies\u001b[1;34m(self, params)\u001b[0m\n\u001b[0;32m   2650\u001b[0m \u001b[38;5;28;01mif\u001b[39;00m apiBackup \u001b[38;5;129;01mis\u001b[39;00m \u001b[38;5;129;01mnot\u001b[39;00m \u001b[38;5;28;01mNone\u001b[39;00m:\n\u001b[0;32m   2651\u001b[0m     \u001b[38;5;28;01mreturn\u001b[39;00m \u001b[38;5;28;01mNone\u001b[39;00m\n\u001b[1;32m-> 2652\u001b[0m response \u001b[38;5;241m=\u001b[39m \u001b[38;5;28mself\u001b[39m\u001b[38;5;241m.\u001b[39msapiGetCapitalConfigGetall(params)\n\u001b[0;32m   2653\u001b[0m result: \u001b[38;5;28mdict\u001b[39m \u001b[38;5;241m=\u001b[39m {}\n\u001b[0;32m   2654\u001b[0m \u001b[38;5;28;01mfor\u001b[39;00m i \u001b[38;5;129;01min\u001b[39;00m \u001b[38;5;28mrange\u001b[39m(\u001b[38;5;241m0\u001b[39m, \u001b[38;5;28mlen\u001b[39m(response)):\n\u001b[0;32m   2655\u001b[0m     \u001b[38;5;66;03m#\u001b[39;00m\n\u001b[0;32m   2656\u001b[0m     \u001b[38;5;66;03m#    {\u001b[39;00m\n\u001b[1;32m   (...)\u001b[0m\n\u001b[0;32m   2748\u001b[0m     \u001b[38;5;66;03m#    }\u001b[39;00m\n\u001b[0;32m   2749\u001b[0m     \u001b[38;5;66;03m#\u001b[39;00m\n",
      "File \u001b[1;32m~\\anaconda3\\Lib\\site-packages\\ccxt\\base\\types.py:35\u001b[0m, in \u001b[0;36mEntry.__init__.<locals>.unbound_method\u001b[1;34m(_self, params)\u001b[0m\n\u001b[0;32m     34\u001b[0m \u001b[38;5;28;01mdef\u001b[39;00m \u001b[38;5;21munbound_method\u001b[39m(_self, params\u001b[38;5;241m=\u001b[39m{}):\n\u001b[1;32m---> 35\u001b[0m     \u001b[38;5;28;01mreturn\u001b[39;00m _self\u001b[38;5;241m.\u001b[39mrequest(\u001b[38;5;28mself\u001b[39m\u001b[38;5;241m.\u001b[39mpath, \u001b[38;5;28mself\u001b[39m\u001b[38;5;241m.\u001b[39mapi, \u001b[38;5;28mself\u001b[39m\u001b[38;5;241m.\u001b[39mmethod, params, config\u001b[38;5;241m=\u001b[39m\u001b[38;5;28mself\u001b[39m\u001b[38;5;241m.\u001b[39mconfig)\n",
      "File \u001b[1;32m~\\anaconda3\\Lib\\site-packages\\ccxt\\binance.py:10673\u001b[0m, in \u001b[0;36mbinance.request\u001b[1;34m(self, path, api, method, params, headers, body, config)\u001b[0m\n\u001b[0;32m  10672\u001b[0m \u001b[38;5;28;01mdef\u001b[39;00m \u001b[38;5;21mrequest\u001b[39m(\u001b[38;5;28mself\u001b[39m, path, api\u001b[38;5;241m=\u001b[39m\u001b[38;5;124m'\u001b[39m\u001b[38;5;124mpublic\u001b[39m\u001b[38;5;124m'\u001b[39m, method\u001b[38;5;241m=\u001b[39m\u001b[38;5;124m'\u001b[39m\u001b[38;5;124mGET\u001b[39m\u001b[38;5;124m'\u001b[39m, params\u001b[38;5;241m=\u001b[39m{}, headers\u001b[38;5;241m=\u001b[39m\u001b[38;5;28;01mNone\u001b[39;00m, body\u001b[38;5;241m=\u001b[39m\u001b[38;5;28;01mNone\u001b[39;00m, config\u001b[38;5;241m=\u001b[39m{}):\n\u001b[1;32m> 10673\u001b[0m     response \u001b[38;5;241m=\u001b[39m \u001b[38;5;28mself\u001b[39m\u001b[38;5;241m.\u001b[39mfetch2(path, api, method, params, headers, body, config)\n\u001b[0;32m  10674\u001b[0m     \u001b[38;5;66;03m# a workaround for {\"code\":-2015,\"msg\":\"Invalid API-key, IP, or permissions for action.\"}\u001b[39;00m\n\u001b[0;32m  10675\u001b[0m     \u001b[38;5;28;01mif\u001b[39;00m api \u001b[38;5;241m==\u001b[39m \u001b[38;5;124m'\u001b[39m\u001b[38;5;124mprivate\u001b[39m\u001b[38;5;124m'\u001b[39m:\n",
      "File \u001b[1;32m~\\anaconda3\\Lib\\site-packages\\ccxt\\base\\exchange.py:4059\u001b[0m, in \u001b[0;36mExchange.fetch2\u001b[1;34m(self, path, api, method, params, headers, body, config)\u001b[0m\n\u001b[0;32m   4057\u001b[0m                     \u001b[38;5;28mself\u001b[39m\u001b[38;5;241m.\u001b[39msleep(retryDelay)\n\u001b[0;32m   4058\u001b[0m                 \u001b[38;5;28;01mcontinue\u001b[39;00m\n\u001b[1;32m-> 4059\u001b[0m         \u001b[38;5;28;01mraise\u001b[39;00m e\n\u001b[0;32m   4060\u001b[0m \u001b[38;5;28;01mreturn\u001b[39;00m \u001b[38;5;28;01mNone\u001b[39;00m\n",
      "File \u001b[1;32m~\\anaconda3\\Lib\\site-packages\\ccxt\\base\\exchange.py:4050\u001b[0m, in \u001b[0;36mExchange.fetch2\u001b[1;34m(self, path, api, method, params, headers, body, config)\u001b[0m\n\u001b[0;32m   4048\u001b[0m \u001b[38;5;28;01mfor\u001b[39;00m i \u001b[38;5;129;01min\u001b[39;00m \u001b[38;5;28mrange\u001b[39m(\u001b[38;5;241m0\u001b[39m, retries \u001b[38;5;241m+\u001b[39m \u001b[38;5;241m1\u001b[39m):\n\u001b[0;32m   4049\u001b[0m     \u001b[38;5;28;01mtry\u001b[39;00m:\n\u001b[1;32m-> 4050\u001b[0m         \u001b[38;5;28;01mreturn\u001b[39;00m \u001b[38;5;28mself\u001b[39m\u001b[38;5;241m.\u001b[39mfetch(request[\u001b[38;5;124m'\u001b[39m\u001b[38;5;124murl\u001b[39m\u001b[38;5;124m'\u001b[39m], request[\u001b[38;5;124m'\u001b[39m\u001b[38;5;124mmethod\u001b[39m\u001b[38;5;124m'\u001b[39m], request[\u001b[38;5;124m'\u001b[39m\u001b[38;5;124mheaders\u001b[39m\u001b[38;5;124m'\u001b[39m], request[\u001b[38;5;124m'\u001b[39m\u001b[38;5;124mbody\u001b[39m\u001b[38;5;124m'\u001b[39m])\n\u001b[0;32m   4051\u001b[0m     \u001b[38;5;28;01mexcept\u001b[39;00m \u001b[38;5;167;01mException\u001b[39;00m \u001b[38;5;28;01mas\u001b[39;00m e:\n\u001b[0;32m   4052\u001b[0m         \u001b[38;5;28;01mif\u001b[39;00m \u001b[38;5;28misinstance\u001b[39m(e, NetworkError):\n",
      "File \u001b[1;32m~\\anaconda3\\Lib\\site-packages\\ccxt\\base\\exchange.py:580\u001b[0m, in \u001b[0;36mExchange.fetch\u001b[1;34m(self, url, method, headers, body)\u001b[0m\n\u001b[0;32m    578\u001b[0m \u001b[38;5;28;01mexcept\u001b[39;00m HTTPError \u001b[38;5;28;01mas\u001b[39;00m e:\n\u001b[0;32m    579\u001b[0m     details \u001b[38;5;241m=\u001b[39m \u001b[38;5;124m'\u001b[39m\u001b[38;5;124m \u001b[39m\u001b[38;5;124m'\u001b[39m\u001b[38;5;241m.\u001b[39mjoin([\u001b[38;5;28mself\u001b[39m\u001b[38;5;241m.\u001b[39mid, method, url])\n\u001b[1;32m--> 580\u001b[0m     skip_further_error_handling \u001b[38;5;241m=\u001b[39m \u001b[38;5;28mself\u001b[39m\u001b[38;5;241m.\u001b[39mhandle_errors(http_status_code, http_status_text, url, method, headers, http_response, json_response, request_headers, request_body)\n\u001b[0;32m    581\u001b[0m     \u001b[38;5;28;01mif\u001b[39;00m \u001b[38;5;129;01mnot\u001b[39;00m skip_further_error_handling:\n\u001b[0;32m    582\u001b[0m         \u001b[38;5;28mself\u001b[39m\u001b[38;5;241m.\u001b[39mhandle_http_status_code(http_status_code, http_status_text, url, method, http_response)\n",
      "File \u001b[1;32m~\\anaconda3\\Lib\\site-packages\\ccxt\\binance.py:10640\u001b[0m, in \u001b[0;36mbinance.handle_errors\u001b[1;34m(self, code, reason, url, method, headers, body, response, requestHeaders, requestBody)\u001b[0m\n\u001b[0;32m  10633\u001b[0m \u001b[38;5;28;01mif\u001b[39;00m message \u001b[38;5;241m==\u001b[39m \u001b[38;5;124m'\u001b[39m\u001b[38;5;124mNo need to change margin type.\u001b[39m\u001b[38;5;124m'\u001b[39m:\n\u001b[0;32m  10634\u001b[0m     \u001b[38;5;66;03m# not an error\u001b[39;00m\n\u001b[0;32m  10635\u001b[0m     \u001b[38;5;66;03m# https://github.com/ccxt/ccxt/issues/11268\u001b[39;00m\n\u001b[0;32m  10636\u001b[0m     \u001b[38;5;66;03m# https://github.com/ccxt/ccxt/pull/11624\u001b[39;00m\n\u001b[0;32m  10637\u001b[0m     \u001b[38;5;66;03m# POST https://fapi.binance.com/fapi/v1/marginType 400 Bad Request\u001b[39;00m\n\u001b[0;32m  10638\u001b[0m     \u001b[38;5;66;03m# binanceusdm {\"code\":-4046,\"msg\":\"No need to change margin type.\"}\u001b[39;00m\n\u001b[0;32m  10639\u001b[0m     \u001b[38;5;28;01mraise\u001b[39;00m MarginModeAlreadySet(feedback)\n\u001b[1;32m> 10640\u001b[0m \u001b[38;5;28mself\u001b[39m\u001b[38;5;241m.\u001b[39mthrow_exactly_matched_exception(\u001b[38;5;28mself\u001b[39m\u001b[38;5;241m.\u001b[39mget_exceptions_by_url(url, \u001b[38;5;124m'\u001b[39m\u001b[38;5;124mexact\u001b[39m\u001b[38;5;124m'\u001b[39m), error, feedback)\n\u001b[0;32m  10641\u001b[0m \u001b[38;5;28mself\u001b[39m\u001b[38;5;241m.\u001b[39mthrow_exactly_matched_exception(\u001b[38;5;28mself\u001b[39m\u001b[38;5;241m.\u001b[39mexceptions[\u001b[38;5;124m'\u001b[39m\u001b[38;5;124mexact\u001b[39m\u001b[38;5;124m'\u001b[39m], error, feedback)\n\u001b[0;32m  10642\u001b[0m \u001b[38;5;28;01mraise\u001b[39;00m ExchangeError(feedback)\n",
      "File \u001b[1;32m~\\anaconda3\\Lib\\site-packages\\ccxt\\base\\exchange.py:4445\u001b[0m, in \u001b[0;36mExchange.throw_exactly_matched_exception\u001b[1;34m(self, exact, string, message)\u001b[0m\n\u001b[0;32m   4443\u001b[0m     \u001b[38;5;28;01mreturn\u001b[39;00m\n\u001b[0;32m   4444\u001b[0m \u001b[38;5;28;01mif\u001b[39;00m string \u001b[38;5;129;01min\u001b[39;00m exact:\n\u001b[1;32m-> 4445\u001b[0m     \u001b[38;5;28;01mraise\u001b[39;00m exact[string](message)\n",
      "\u001b[1;31mAuthenticationError\u001b[0m: binance {\"code\":-2008,\"msg\":\"Invalid Api-Key ID.\"}"
     ]
    }
   ],
   "source": [
    "import ccxt\n",
    "import pandas as pd\n",
    "import json\n",
    "\n",
    "with open('keys.json', 'r') as f:\n",
    "    keys = json.load(f)\n",
    "api_key = keys['api_key']\n",
    "api_secret = keys['api_secret']\n",
    "\n",
    "exchange = ccxt.binance({\n",
    "    'apiKey': api_key,\n",
    "    'secret': api_secret,\n",
    "    'enableRateLimit': True\n",
    "})\n",
    "exchange.load_markets()"
   ]
  },
  {
   "cell_type": "code",
   "execution_count": 17,
   "id": "35da9be6",
   "metadata": {},
   "outputs": [],
   "source": [
    "exchange.set_sandbox_mode(True)"
   ]
  },
  {
   "cell_type": "code",
   "execution_count": 3,
   "id": "b7205791",
   "metadata": {},
   "outputs": [],
   "source": [
    "import ccxt\n",
    "import pandas as pd\n",
    "\n",
    "def retrieve_candles(symbol, timeframe, limit):\n",
    "    ohlcv = exchange.fetch_ohlcv(symbol, timeframe, limit=limit)\n",
    "\n",
    "    df_min = pd.DataFrame(ohlcv, columns=['timestamp', 'open', 'high', 'low', 'close', 'volume'])\n",
    "    df_min['timestamp'] = pd.to_datetime(df_min['timestamp'], unit='ms')\n",
    "    return df_min"
   ]
  },
  {
   "cell_type": "code",
   "execution_count": 7,
   "id": "e0ec8453",
   "metadata": {
    "scrolled": false
   },
   "outputs": [
    {
     "data": {
      "text/html": [
       "<div>\n",
       "<style scoped>\n",
       "    .dataframe tbody tr th:only-of-type {\n",
       "        vertical-align: middle;\n",
       "    }\n",
       "\n",
       "    .dataframe tbody tr th {\n",
       "        vertical-align: top;\n",
       "    }\n",
       "\n",
       "    .dataframe thead th {\n",
       "        text-align: right;\n",
       "    }\n",
       "</style>\n",
       "<table border=\"1\" class=\"dataframe\">\n",
       "  <thead>\n",
       "    <tr style=\"text-align: right;\">\n",
       "      <th></th>\n",
       "      <th>timestamp</th>\n",
       "      <th>open</th>\n",
       "      <th>high</th>\n",
       "      <th>low</th>\n",
       "      <th>close</th>\n",
       "      <th>volume</th>\n",
       "    </tr>\n",
       "  </thead>\n",
       "  <tbody>\n",
       "    <tr>\n",
       "      <th>0</th>\n",
       "      <td>2025-07-02 11:00:00</td>\n",
       "      <td>656.90</td>\n",
       "      <td>657.13</td>\n",
       "      <td>656.90</td>\n",
       "      <td>657.10</td>\n",
       "      <td>25.168</td>\n",
       "    </tr>\n",
       "    <tr>\n",
       "      <th>1</th>\n",
       "      <td>2025-07-02 12:00:00</td>\n",
       "      <td>657.11</td>\n",
       "      <td>821.80</td>\n",
       "      <td>655.39</td>\n",
       "      <td>656.10</td>\n",
       "      <td>4891.273</td>\n",
       "    </tr>\n",
       "    <tr>\n",
       "      <th>2</th>\n",
       "      <td>2025-07-02 13:00:00</td>\n",
       "      <td>656.13</td>\n",
       "      <td>658.27</td>\n",
       "      <td>656.13</td>\n",
       "      <td>657.76</td>\n",
       "      <td>4527.769</td>\n",
       "    </tr>\n",
       "    <tr>\n",
       "      <th>3</th>\n",
       "      <td>2025-07-02 14:00:00</td>\n",
       "      <td>657.81</td>\n",
       "      <td>659.44</td>\n",
       "      <td>657.40</td>\n",
       "      <td>659.27</td>\n",
       "      <td>5927.051</td>\n",
       "    </tr>\n",
       "    <tr>\n",
       "      <th>4</th>\n",
       "      <td>2025-07-02 15:00:00</td>\n",
       "      <td>659.29</td>\n",
       "      <td>661.99</td>\n",
       "      <td>658.81</td>\n",
       "      <td>661.66</td>\n",
       "      <td>4849.988</td>\n",
       "    </tr>\n",
       "    <tr>\n",
       "      <th>...</th>\n",
       "      <td>...</td>\n",
       "      <td>...</td>\n",
       "      <td>...</td>\n",
       "      <td>...</td>\n",
       "      <td>...</td>\n",
       "      <td>...</td>\n",
       "    </tr>\n",
       "    <tr>\n",
       "      <th>165</th>\n",
       "      <td>2025-07-09 08:00:00</td>\n",
       "      <td>662.61</td>\n",
       "      <td>662.87</td>\n",
       "      <td>660.95</td>\n",
       "      <td>660.95</td>\n",
       "      <td>2089.409</td>\n",
       "    </tr>\n",
       "    <tr>\n",
       "      <th>166</th>\n",
       "      <td>2025-07-09 09:00:00</td>\n",
       "      <td>660.90</td>\n",
       "      <td>660.90</td>\n",
       "      <td>659.76</td>\n",
       "      <td>660.18</td>\n",
       "      <td>2165.653</td>\n",
       "    </tr>\n",
       "    <tr>\n",
       "      <th>167</th>\n",
       "      <td>2025-07-09 10:00:00</td>\n",
       "      <td>660.18</td>\n",
       "      <td>660.63</td>\n",
       "      <td>659.16</td>\n",
       "      <td>660.58</td>\n",
       "      <td>2854.144</td>\n",
       "    </tr>\n",
       "    <tr>\n",
       "      <th>168</th>\n",
       "      <td>2025-07-09 11:00:00</td>\n",
       "      <td>660.59</td>\n",
       "      <td>662.15</td>\n",
       "      <td>660.59</td>\n",
       "      <td>661.30</td>\n",
       "      <td>2759.139</td>\n",
       "    </tr>\n",
       "    <tr>\n",
       "      <th>169</th>\n",
       "      <td>2025-07-09 12:00:00</td>\n",
       "      <td>661.32</td>\n",
       "      <td>662.18</td>\n",
       "      <td>661.32</td>\n",
       "      <td>661.92</td>\n",
       "      <td>2153.009</td>\n",
       "    </tr>\n",
       "  </tbody>\n",
       "</table>\n",
       "<p>170 rows × 6 columns</p>\n",
       "</div>"
      ],
      "text/plain": [
       "              timestamp    open    high     low   close    volume\n",
       "0   2025-07-02 11:00:00  656.90  657.13  656.90  657.10    25.168\n",
       "1   2025-07-02 12:00:00  657.11  821.80  655.39  656.10  4891.273\n",
       "2   2025-07-02 13:00:00  656.13  658.27  656.13  657.76  4527.769\n",
       "3   2025-07-02 14:00:00  657.81  659.44  657.40  659.27  5927.051\n",
       "4   2025-07-02 15:00:00  659.29  661.99  658.81  661.66  4849.988\n",
       "..                  ...     ...     ...     ...     ...       ...\n",
       "165 2025-07-09 08:00:00  662.61  662.87  660.95  660.95  2089.409\n",
       "166 2025-07-09 09:00:00  660.90  660.90  659.76  660.18  2165.653\n",
       "167 2025-07-09 10:00:00  660.18  660.63  659.16  660.58  2854.144\n",
       "168 2025-07-09 11:00:00  660.59  662.15  660.59  661.30  2759.139\n",
       "169 2025-07-09 12:00:00  661.32  662.18  661.32  661.92  2153.009\n",
       "\n",
       "[170 rows x 6 columns]"
      ]
     },
     "execution_count": 7,
     "metadata": {},
     "output_type": "execute_result"
    }
   ],
   "source": [
    "live_prices = retrieve_candles('BNB/USDT', '1h', 200)\n",
    "live_prices"
   ]
  },
  {
   "cell_type": "code",
   "execution_count": 8,
   "id": "a9069d4e",
   "metadata": {},
   "outputs": [
    {
     "data": {
      "text/html": [
       "<div>\n",
       "<style scoped>\n",
       "    .dataframe tbody tr th:only-of-type {\n",
       "        vertical-align: middle;\n",
       "    }\n",
       "\n",
       "    .dataframe tbody tr th {\n",
       "        vertical-align: top;\n",
       "    }\n",
       "\n",
       "    .dataframe thead th {\n",
       "        text-align: right;\n",
       "    }\n",
       "</style>\n",
       "<table border=\"1\" class=\"dataframe\">\n",
       "  <thead>\n",
       "    <tr style=\"text-align: right;\">\n",
       "      <th></th>\n",
       "      <th>timestamp</th>\n",
       "      <th>open</th>\n",
       "      <th>high</th>\n",
       "      <th>low</th>\n",
       "      <th>close</th>\n",
       "      <th>volume</th>\n",
       "      <th>RSI</th>\n",
       "      <th>MA20</th>\n",
       "      <th>MA50</th>\n",
       "    </tr>\n",
       "  </thead>\n",
       "  <tbody>\n",
       "    <tr>\n",
       "      <th>49</th>\n",
       "      <td>2025-07-04 12:00:00</td>\n",
       "      <td>659.63</td>\n",
       "      <td>660.09</td>\n",
       "      <td>658.31</td>\n",
       "      <td>658.73</td>\n",
       "      <td>2508.116</td>\n",
       "      <td>45.546295</td>\n",
       "      <td>660.4065</td>\n",
       "      <td>660.7520</td>\n",
       "    </tr>\n",
       "    <tr>\n",
       "      <th>50</th>\n",
       "      <td>2025-07-04 13:00:00</td>\n",
       "      <td>658.74</td>\n",
       "      <td>659.69</td>\n",
       "      <td>655.73</td>\n",
       "      <td>655.73</td>\n",
       "      <td>4903.596</td>\n",
       "      <td>37.766770</td>\n",
       "      <td>660.2360</td>\n",
       "      <td>660.7246</td>\n",
       "    </tr>\n",
       "    <tr>\n",
       "      <th>51</th>\n",
       "      <td>2025-07-04 14:00:00</td>\n",
       "      <td>655.67</td>\n",
       "      <td>655.91</td>\n",
       "      <td>653.31</td>\n",
       "      <td>655.52</td>\n",
       "      <td>5297.226</td>\n",
       "      <td>37.286665</td>\n",
       "      <td>659.9875</td>\n",
       "      <td>660.7130</td>\n",
       "    </tr>\n",
       "    <tr>\n",
       "      <th>52</th>\n",
       "      <td>2025-07-04 15:00:00</td>\n",
       "      <td>655.51</td>\n",
       "      <td>655.56</td>\n",
       "      <td>652.22</td>\n",
       "      <td>653.07</td>\n",
       "      <td>5816.454</td>\n",
       "      <td>32.151451</td>\n",
       "      <td>659.5670</td>\n",
       "      <td>660.6192</td>\n",
       "    </tr>\n",
       "    <tr>\n",
       "      <th>53</th>\n",
       "      <td>2025-07-04 16:00:00</td>\n",
       "      <td>652.79</td>\n",
       "      <td>652.89</td>\n",
       "      <td>650.22</td>\n",
       "      <td>652.05</td>\n",
       "      <td>6812.605</td>\n",
       "      <td>30.281618</td>\n",
       "      <td>659.0760</td>\n",
       "      <td>660.4748</td>\n",
       "    </tr>\n",
       "    <tr>\n",
       "      <th>...</th>\n",
       "      <td>...</td>\n",
       "      <td>...</td>\n",
       "      <td>...</td>\n",
       "      <td>...</td>\n",
       "      <td>...</td>\n",
       "      <td>...</td>\n",
       "      <td>...</td>\n",
       "      <td>...</td>\n",
       "      <td>...</td>\n",
       "    </tr>\n",
       "    <tr>\n",
       "      <th>165</th>\n",
       "      <td>2025-07-09 08:00:00</td>\n",
       "      <td>662.61</td>\n",
       "      <td>662.87</td>\n",
       "      <td>660.95</td>\n",
       "      <td>660.95</td>\n",
       "      <td>2089.409</td>\n",
       "      <td>49.292247</td>\n",
       "      <td>660.9405</td>\n",
       "      <td>660.6748</td>\n",
       "    </tr>\n",
       "    <tr>\n",
       "      <th>166</th>\n",
       "      <td>2025-07-09 09:00:00</td>\n",
       "      <td>660.90</td>\n",
       "      <td>660.90</td>\n",
       "      <td>659.76</td>\n",
       "      <td>660.18</td>\n",
       "      <td>2165.653</td>\n",
       "      <td>46.371099</td>\n",
       "      <td>660.8690</td>\n",
       "      <td>660.6228</td>\n",
       "    </tr>\n",
       "    <tr>\n",
       "      <th>167</th>\n",
       "      <td>2025-07-09 10:00:00</td>\n",
       "      <td>660.18</td>\n",
       "      <td>660.63</td>\n",
       "      <td>659.16</td>\n",
       "      <td>660.58</td>\n",
       "      <td>2854.144</td>\n",
       "      <td>48.092028</td>\n",
       "      <td>660.9790</td>\n",
       "      <td>660.5694</td>\n",
       "    </tr>\n",
       "    <tr>\n",
       "      <th>168</th>\n",
       "      <td>2025-07-09 11:00:00</td>\n",
       "      <td>660.59</td>\n",
       "      <td>662.15</td>\n",
       "      <td>660.59</td>\n",
       "      <td>661.30</td>\n",
       "      <td>2759.139</td>\n",
       "      <td>51.131843</td>\n",
       "      <td>661.1360</td>\n",
       "      <td>660.5436</td>\n",
       "    </tr>\n",
       "    <tr>\n",
       "      <th>169</th>\n",
       "      <td>2025-07-09 12:00:00</td>\n",
       "      <td>661.32</td>\n",
       "      <td>662.18</td>\n",
       "      <td>661.32</td>\n",
       "      <td>661.92</td>\n",
       "      <td>2153.009</td>\n",
       "      <td>53.649032</td>\n",
       "      <td>661.2975</td>\n",
       "      <td>660.5456</td>\n",
       "    </tr>\n",
       "  </tbody>\n",
       "</table>\n",
       "<p>121 rows × 9 columns</p>\n",
       "</div>"
      ],
      "text/plain": [
       "              timestamp    open    high     low   close    volume        RSI  \\\n",
       "49  2025-07-04 12:00:00  659.63  660.09  658.31  658.73  2508.116  45.546295   \n",
       "50  2025-07-04 13:00:00  658.74  659.69  655.73  655.73  4903.596  37.766770   \n",
       "51  2025-07-04 14:00:00  655.67  655.91  653.31  655.52  5297.226  37.286665   \n",
       "52  2025-07-04 15:00:00  655.51  655.56  652.22  653.07  5816.454  32.151451   \n",
       "53  2025-07-04 16:00:00  652.79  652.89  650.22  652.05  6812.605  30.281618   \n",
       "..                  ...     ...     ...     ...     ...       ...        ...   \n",
       "165 2025-07-09 08:00:00  662.61  662.87  660.95  660.95  2089.409  49.292247   \n",
       "166 2025-07-09 09:00:00  660.90  660.90  659.76  660.18  2165.653  46.371099   \n",
       "167 2025-07-09 10:00:00  660.18  660.63  659.16  660.58  2854.144  48.092028   \n",
       "168 2025-07-09 11:00:00  660.59  662.15  660.59  661.30  2759.139  51.131843   \n",
       "169 2025-07-09 12:00:00  661.32  662.18  661.32  661.92  2153.009  53.649032   \n",
       "\n",
       "         MA20      MA50  \n",
       "49   660.4065  660.7520  \n",
       "50   660.2360  660.7246  \n",
       "51   659.9875  660.7130  \n",
       "52   659.5670  660.6192  \n",
       "53   659.0760  660.4748  \n",
       "..        ...       ...  \n",
       "165  660.9405  660.6748  \n",
       "166  660.8690  660.6228  \n",
       "167  660.9790  660.5694  \n",
       "168  661.1360  660.5436  \n",
       "169  661.2975  660.5456  \n",
       "\n",
       "[121 rows x 9 columns]"
      ]
     },
     "execution_count": 8,
     "metadata": {},
     "output_type": "execute_result"
    }
   ],
   "source": [
    "import pandas_ta as ta\n",
    "\n",
    "live_prices['RSI'] = ta.rsi(live_prices['close'], length=14)\n",
    "\n",
    "live_prices['MA20'] = live_prices['close'].rolling(window=20).mean()\n",
    "live_prices['MA50'] = live_prices['close'].rolling(window=50).mean()\n",
    "\n",
    "live_prices = live_prices.dropna()\n",
    "live_prices"
   ]
  },
  {
   "cell_type": "code",
   "execution_count": 9,
   "id": "6cbe46d7",
   "metadata": {
    "scrolled": false
   },
   "outputs": [
    {
     "data": {
      "application/vnd.plotly.v1+json": {
       "config": {
        "plotlyServerURL": "https://plot.ly"
       },
       "data": [
        {
         "close": [
          658.73,
          655.73,
          655.52,
          653.07,
          652.05,
          653.4,
          651.32,
          651.53,
          652.56,
          652.68,
          654.05,
          653.6,
          654.73,
          654.61,
          654.73,
          655.95,
          655.35,
          656.73,
          655.98,
          654.42,
          654.21,
          655.28,
          654.93,
          655.53,
          655.16,
          654.76,
          655.02,
          654.4,
          653.69,
          653.56,
          652.62,
          654.08,
          654.85,
          655.74,
          656.17,
          656.14,
          656.62,
          655.76,
          654.9,
          654.86,
          653.96,
          654.1,
          655.32,
          654.77,
          654.89,
          654.05,
          654.8,
          656.45,
          656.74,
          661.58,
          661.1,
          662.8,
          663.25,
          662.86,
          662.17,
          662.98,
          661.39,
          662.78,
          663.83,
          663.06,
          661.33,
          661.14,
          661.88,
          660.93,
          661.2,
          661.21,
          661.27,
          662.78,
          663.25,
          662.59,
          661.82,
          662.35,
          661.45,
          662.5,
          659.78,
          658.98,
          657.42,
          659.07,
          660.76,
          661.55,
          659.18,
          660.19,
          660.18,
          661.23,
          661.32,
          658.54,
          658.43,
          659.68,
          659.45,
          659.4,
          660,
          659.8,
          660.61,
          660.41,
          659.98,
          661.08,
          661.15,
          661.61,
          658.38,
          658.16,
          658.69,
          661.04,
          661.77,
          660.96,
          658.94,
          659.84,
          660.07,
          660.62,
          661.53,
          660.67,
          661.53,
          661.67,
          662.07,
          664.12,
          663.57,
          662.62,
          660.95,
          660.18,
          660.58,
          661.3,
          661.92
         ],
         "high": [
          660.09,
          659.69,
          655.91,
          655.56,
          652.89,
          653.4,
          653.39,
          652.44,
          652.56,
          652.8,
          654.06,
          654.08,
          654.83,
          654.77,
          654.84,
          656.1,
          656.03,
          656.73,
          656.73,
          657.55,
          655.45,
          655.43,
          655.38,
          655.89,
          655.5,
          655.53,
          655.19,
          655.24,
          654.8,
          654.17,
          653.62,
          654.1,
          654.85,
          655.74,
          656.17,
          656.39,
          656.66,
          656.58,
          656.1,
          654.95,
          655.4,
          654.24,
          655.87,
          655.4,
          655.04,
          654.84,
          654.94,
          656.46,
          656.74,
          661.92,
          662.6,
          663.49,
          663.39,
          663.68,
          663.35,
          663.57,
          663.55,
          664.69,
          664.36,
          663.84,
          663.14,
          661.6,
          663.17,
          663.06,
          661.39,
          661.59,
          661.92,
          662.78,
          663.25,
          663.47,
          662.91,
          662.55,
          662.3,
          662.5,
          662.67,
          660.67,
          659.3,
          659.6,
          660.76,
          661.85,
          661.28,
          660.5,
          660.42,
          661.26,
          662.57,
          661.27,
          659.85,
          659.79,
          659.78,
          660.09,
          660.38,
          660.42,
          660.98,
          661.34,
          660.98,
          661.48,
          661.51,
          661.81,
          661.61,
          659.29,
          659.5,
          661.53,
          661.8,
          661.94,
          660.96,
          659.89,
          660.07,
          660.74,
          661.53,
          662.29,
          662.18,
          661.82,
          662.07,
          664.12,
          664.55,
          663.81,
          662.87,
          660.9,
          660.63,
          662.15,
          662.18
         ],
         "low": [
          658.31,
          655.73,
          653.31,
          652.22,
          650.22,
          651.88,
          651.05,
          650.77,
          650.92,
          652,
          652.46,
          653.06,
          653.43,
          654.04,
          652.97,
          654.6,
          654.94,
          655.15,
          655.1,
          653.79,
          653.95,
          654.02,
          654.75,
          654.96,
          654.38,
          654.73,
          654.33,
          654.2,
          652.64,
          652.01,
          652.33,
          652.05,
          653.87,
          654.6,
          655.24,
          655.86,
          655.94,
          655.6,
          654.9,
          654.47,
          653.81,
          653.55,
          653.9,
          654.72,
          653.55,
          654.05,
          653.91,
          654.52,
          655.79,
          656.77,
          659.59,
          661.14,
          662.53,
          662.61,
          661.29,
          662.17,
          661.29,
          661.07,
          662.77,
          662.04,
          661.12,
          660.43,
          661.16,
          660.83,
          660.62,
          661.01,
          661.06,
          660.88,
          661.97,
          662.28,
          661.79,
          661.45,
          660.83,
          660.26,
          659.34,
          658.87,
          657.05,
          656.89,
          658.43,
          660.61,
          659.08,
          658.01,
          659.63,
          660.2,
          661.01,
          658.47,
          657.51,
          658.21,
          658.71,
          658.86,
          659.35,
          659.49,
          659.72,
          660.19,
          659.3,
          659.99,
          660.07,
          660.12,
          658.14,
          657.72,
          657.38,
          658.66,
          660.84,
          660.36,
          658.91,
          657.76,
          658.74,
          659.78,
          660.06,
          660.15,
          660.53,
          660.86,
          661.26,
          662.07,
          663.1,
          662.38,
          660.95,
          659.76,
          659.16,
          660.59,
          661.32
         ],
         "name": "Candlestick",
         "open": [
          659.63,
          658.74,
          655.67,
          655.51,
          652.79,
          652.03,
          653.39,
          651.3,
          651.05,
          652.53,
          652.71,
          654.08,
          653.58,
          654.77,
          654.6,
          654.6,
          655.96,
          655.3,
          656.73,
          655.99,
          654.44,
          654.24,
          655.29,
          654.96,
          655.5,
          655.16,
          654.71,
          654.95,
          654.38,
          653.69,
          653.62,
          652.6,
          654.1,
          654.86,
          655.76,
          656.2,
          656.16,
          656.58,
          655.76,
          654.87,
          654.83,
          653.97,
          654.1,
          655.3,
          654.75,
          654.8,
          654.01,
          654.78,
          656.46,
          656.77,
          661.57,
          661.14,
          662.81,
          663.24,
          662.85,
          662.17,
          662.98,
          661.43,
          662.77,
          663.73,
          663.09,
          661.36,
          661.21,
          661.9,
          660.84,
          661.18,
          661.25,
          661.3,
          662.79,
          663.25,
          662.6,
          661.82,
          662.3,
          661.45,
          662.39,
          659.78,
          659.01,
          657.39,
          659.11,
          660.78,
          661.23,
          659.2,
          660.21,
          660.2,
          661.01,
          661.27,
          658.46,
          658.21,
          659.72,
          659.49,
          659.45,
          659.99,
          659.81,
          660.6,
          660.37,
          659.99,
          661.11,
          661.2,
          661.61,
          658.35,
          658.19,
          658.69,
          661.22,
          661.76,
          660.96,
          658.94,
          659.86,
          660.07,
          660.63,
          661.6,
          660.68,
          661.54,
          661.68,
          662.07,
          664.13,
          663.57,
          662.61,
          660.9,
          660.18,
          660.59,
          661.32
         ],
         "type": "candlestick",
         "x": [
          "2025-07-04T12:00:00",
          "2025-07-04T13:00:00",
          "2025-07-04T14:00:00",
          "2025-07-04T15:00:00",
          "2025-07-04T16:00:00",
          "2025-07-04T17:00:00",
          "2025-07-04T18:00:00",
          "2025-07-04T19:00:00",
          "2025-07-04T20:00:00",
          "2025-07-04T21:00:00",
          "2025-07-04T22:00:00",
          "2025-07-04T23:00:00",
          "2025-07-05T00:00:00",
          "2025-07-05T01:00:00",
          "2025-07-05T02:00:00",
          "2025-07-05T03:00:00",
          "2025-07-05T04:00:00",
          "2025-07-05T05:00:00",
          "2025-07-05T06:00:00",
          "2025-07-05T07:00:00",
          "2025-07-05T08:00:00",
          "2025-07-05T09:00:00",
          "2025-07-05T10:00:00",
          "2025-07-05T11:00:00",
          "2025-07-05T12:00:00",
          "2025-07-05T13:00:00",
          "2025-07-05T14:00:00",
          "2025-07-05T15:00:00",
          "2025-07-05T16:00:00",
          "2025-07-05T17:00:00",
          "2025-07-05T18:00:00",
          "2025-07-05T19:00:00",
          "2025-07-05T20:00:00",
          "2025-07-05T21:00:00",
          "2025-07-05T22:00:00",
          "2025-07-05T23:00:00",
          "2025-07-06T00:00:00",
          "2025-07-06T01:00:00",
          "2025-07-06T02:00:00",
          "2025-07-06T03:00:00",
          "2025-07-06T04:00:00",
          "2025-07-06T05:00:00",
          "2025-07-06T06:00:00",
          "2025-07-06T07:00:00",
          "2025-07-06T08:00:00",
          "2025-07-06T09:00:00",
          "2025-07-06T10:00:00",
          "2025-07-06T11:00:00",
          "2025-07-06T12:00:00",
          "2025-07-06T13:00:00",
          "2025-07-06T14:00:00",
          "2025-07-06T15:00:00",
          "2025-07-06T16:00:00",
          "2025-07-06T17:00:00",
          "2025-07-06T18:00:00",
          "2025-07-06T19:00:00",
          "2025-07-06T20:00:00",
          "2025-07-06T21:00:00",
          "2025-07-06T22:00:00",
          "2025-07-06T23:00:00",
          "2025-07-07T00:00:00",
          "2025-07-07T01:00:00",
          "2025-07-07T02:00:00",
          "2025-07-07T03:00:00",
          "2025-07-07T04:00:00",
          "2025-07-07T05:00:00",
          "2025-07-07T06:00:00",
          "2025-07-07T07:00:00",
          "2025-07-07T08:00:00",
          "2025-07-07T09:00:00",
          "2025-07-07T10:00:00",
          "2025-07-07T11:00:00",
          "2025-07-07T12:00:00",
          "2025-07-07T13:00:00",
          "2025-07-07T14:00:00",
          "2025-07-07T15:00:00",
          "2025-07-07T16:00:00",
          "2025-07-07T17:00:00",
          "2025-07-07T18:00:00",
          "2025-07-07T19:00:00",
          "2025-07-07T20:00:00",
          "2025-07-07T21:00:00",
          "2025-07-07T22:00:00",
          "2025-07-07T23:00:00",
          "2025-07-08T00:00:00",
          "2025-07-08T01:00:00",
          "2025-07-08T02:00:00",
          "2025-07-08T03:00:00",
          "2025-07-08T04:00:00",
          "2025-07-08T05:00:00",
          "2025-07-08T06:00:00",
          "2025-07-08T07:00:00",
          "2025-07-08T08:00:00",
          "2025-07-08T09:00:00",
          "2025-07-08T10:00:00",
          "2025-07-08T11:00:00",
          "2025-07-08T12:00:00",
          "2025-07-08T13:00:00",
          "2025-07-08T14:00:00",
          "2025-07-08T15:00:00",
          "2025-07-08T16:00:00",
          "2025-07-08T17:00:00",
          "2025-07-08T18:00:00",
          "2025-07-08T19:00:00",
          "2025-07-08T20:00:00",
          "2025-07-08T21:00:00",
          "2025-07-08T22:00:00",
          "2025-07-08T23:00:00",
          "2025-07-09T00:00:00",
          "2025-07-09T01:00:00",
          "2025-07-09T02:00:00",
          "2025-07-09T03:00:00",
          "2025-07-09T04:00:00",
          "2025-07-09T05:00:00",
          "2025-07-09T06:00:00",
          "2025-07-09T07:00:00",
          "2025-07-09T08:00:00",
          "2025-07-09T09:00:00",
          "2025-07-09T10:00:00",
          "2025-07-09T11:00:00",
          "2025-07-09T12:00:00"
         ],
         "xaxis": "x",
         "yaxis": "y"
        },
        {
         "line": {
          "color": "blue",
          "width": 2
         },
         "mode": "lines",
         "name": "20-period MA",
         "type": "scatter",
         "x": [
          "2025-07-04T12:00:00",
          "2025-07-04T13:00:00",
          "2025-07-04T14:00:00",
          "2025-07-04T15:00:00",
          "2025-07-04T16:00:00",
          "2025-07-04T17:00:00",
          "2025-07-04T18:00:00",
          "2025-07-04T19:00:00",
          "2025-07-04T20:00:00",
          "2025-07-04T21:00:00",
          "2025-07-04T22:00:00",
          "2025-07-04T23:00:00",
          "2025-07-05T00:00:00",
          "2025-07-05T01:00:00",
          "2025-07-05T02:00:00",
          "2025-07-05T03:00:00",
          "2025-07-05T04:00:00",
          "2025-07-05T05:00:00",
          "2025-07-05T06:00:00",
          "2025-07-05T07:00:00",
          "2025-07-05T08:00:00",
          "2025-07-05T09:00:00",
          "2025-07-05T10:00:00",
          "2025-07-05T11:00:00",
          "2025-07-05T12:00:00",
          "2025-07-05T13:00:00",
          "2025-07-05T14:00:00",
          "2025-07-05T15:00:00",
          "2025-07-05T16:00:00",
          "2025-07-05T17:00:00",
          "2025-07-05T18:00:00",
          "2025-07-05T19:00:00",
          "2025-07-05T20:00:00",
          "2025-07-05T21:00:00",
          "2025-07-05T22:00:00",
          "2025-07-05T23:00:00",
          "2025-07-06T00:00:00",
          "2025-07-06T01:00:00",
          "2025-07-06T02:00:00",
          "2025-07-06T03:00:00",
          "2025-07-06T04:00:00",
          "2025-07-06T05:00:00",
          "2025-07-06T06:00:00",
          "2025-07-06T07:00:00",
          "2025-07-06T08:00:00",
          "2025-07-06T09:00:00",
          "2025-07-06T10:00:00",
          "2025-07-06T11:00:00",
          "2025-07-06T12:00:00",
          "2025-07-06T13:00:00",
          "2025-07-06T14:00:00",
          "2025-07-06T15:00:00",
          "2025-07-06T16:00:00",
          "2025-07-06T17:00:00",
          "2025-07-06T18:00:00",
          "2025-07-06T19:00:00",
          "2025-07-06T20:00:00",
          "2025-07-06T21:00:00",
          "2025-07-06T22:00:00",
          "2025-07-06T23:00:00",
          "2025-07-07T00:00:00",
          "2025-07-07T01:00:00",
          "2025-07-07T02:00:00",
          "2025-07-07T03:00:00",
          "2025-07-07T04:00:00",
          "2025-07-07T05:00:00",
          "2025-07-07T06:00:00",
          "2025-07-07T07:00:00",
          "2025-07-07T08:00:00",
          "2025-07-07T09:00:00",
          "2025-07-07T10:00:00",
          "2025-07-07T11:00:00",
          "2025-07-07T12:00:00",
          "2025-07-07T13:00:00",
          "2025-07-07T14:00:00",
          "2025-07-07T15:00:00",
          "2025-07-07T16:00:00",
          "2025-07-07T17:00:00",
          "2025-07-07T18:00:00",
          "2025-07-07T19:00:00",
          "2025-07-07T20:00:00",
          "2025-07-07T21:00:00",
          "2025-07-07T22:00:00",
          "2025-07-07T23:00:00",
          "2025-07-08T00:00:00",
          "2025-07-08T01:00:00",
          "2025-07-08T02:00:00",
          "2025-07-08T03:00:00",
          "2025-07-08T04:00:00",
          "2025-07-08T05:00:00",
          "2025-07-08T06:00:00",
          "2025-07-08T07:00:00",
          "2025-07-08T08:00:00",
          "2025-07-08T09:00:00",
          "2025-07-08T10:00:00",
          "2025-07-08T11:00:00",
          "2025-07-08T12:00:00",
          "2025-07-08T13:00:00",
          "2025-07-08T14:00:00",
          "2025-07-08T15:00:00",
          "2025-07-08T16:00:00",
          "2025-07-08T17:00:00",
          "2025-07-08T18:00:00",
          "2025-07-08T19:00:00",
          "2025-07-08T20:00:00",
          "2025-07-08T21:00:00",
          "2025-07-08T22:00:00",
          "2025-07-08T23:00:00",
          "2025-07-09T00:00:00",
          "2025-07-09T01:00:00",
          "2025-07-09T02:00:00",
          "2025-07-09T03:00:00",
          "2025-07-09T04:00:00",
          "2025-07-09T05:00:00",
          "2025-07-09T06:00:00",
          "2025-07-09T07:00:00",
          "2025-07-09T08:00:00",
          "2025-07-09T09:00:00",
          "2025-07-09T10:00:00",
          "2025-07-09T11:00:00",
          "2025-07-09T12:00:00"
         ],
         "xaxis": "x",
         "y": [
          660.4065,
          660.236,
          659.9875,
          659.567,
          659.0759999999999,
          658.599,
          657.972,
          657.372,
          656.8875,
          656.4219999999999,
          656.0840000000001,
          655.657,
          655.3945,
          655.11,
          654.9365,
          654.925,
          654.8064999999999,
          654.7535,
          654.5965,
          654.337,
          654.111,
          654.0885000000001,
          654.059,
          654.182,
          654.3375,
          654.4055,
          654.5905,
          654.734,
          654.7905,
          654.8345,
          654.763,
          654.787,
          654.793,
          654.8495,
          654.9215,
          654.9309999999999,
          654.9945,
          654.9459999999999,
          654.892,
          654.914,
          654.9015,
          654.8425,
          654.862,
          654.8240000000001,
          654.8105,
          654.775,
          654.764,
          654.8665,
          655.019,
          655.42,
          655.8439999999999,
          656.28,
          656.7,
          657.0559999999999,
          657.356,
          657.698,
          657.9365,
          658.2875,
          658.734,
          659.144,
          659.5125,
          659.8644999999999,
          660.1925,
          660.5004999999999,
          660.816,
          661.174,
          661.4975,
          661.8140000000001,
          662.1395,
          662.19,
          662.226,
          662.2035,
          662.1134999999999,
          662.0955,
          661.976,
          661.7760000000001,
          661.5775,
          661.392,
          661.2384999999999,
          661.163,
          661.0555,
          661.008,
          660.923,
          660.938,
          660.9440000000001,
          660.8105,
          660.6685,
          660.5135,
          660.3235,
          660.164,
          660.073,
          659.9455,
          659.9035,
          659.7990000000001,
          659.809,
          659.914,
          660.1005,
          660.2275000000001,
          660.1085,
          659.939,
          659.9145,
          659.957,
          660.0364999999999,
          660.023,
          659.9039999999999,
          659.9689999999999,
          660.051,
          660.098,
          660.202,
          660.2655000000001,
          660.342,
          660.4354999999999,
          660.5084999999999,
          660.694,
          660.8734999999999,
          660.9505,
          660.9404999999999,
          660.8689999999999,
          660.979,
          661.1360000000001,
          661.2975
         ],
         "yaxis": "y"
        },
        {
         "line": {
          "color": "orange",
          "width": 2
         },
         "mode": "lines",
         "name": "RSI",
         "type": "scatter",
         "x": [
          "2025-07-04T12:00:00",
          "2025-07-04T13:00:00",
          "2025-07-04T14:00:00",
          "2025-07-04T15:00:00",
          "2025-07-04T16:00:00",
          "2025-07-04T17:00:00",
          "2025-07-04T18:00:00",
          "2025-07-04T19:00:00",
          "2025-07-04T20:00:00",
          "2025-07-04T21:00:00",
          "2025-07-04T22:00:00",
          "2025-07-04T23:00:00",
          "2025-07-05T00:00:00",
          "2025-07-05T01:00:00",
          "2025-07-05T02:00:00",
          "2025-07-05T03:00:00",
          "2025-07-05T04:00:00",
          "2025-07-05T05:00:00",
          "2025-07-05T06:00:00",
          "2025-07-05T07:00:00",
          "2025-07-05T08:00:00",
          "2025-07-05T09:00:00",
          "2025-07-05T10:00:00",
          "2025-07-05T11:00:00",
          "2025-07-05T12:00:00",
          "2025-07-05T13:00:00",
          "2025-07-05T14:00:00",
          "2025-07-05T15:00:00",
          "2025-07-05T16:00:00",
          "2025-07-05T17:00:00",
          "2025-07-05T18:00:00",
          "2025-07-05T19:00:00",
          "2025-07-05T20:00:00",
          "2025-07-05T21:00:00",
          "2025-07-05T22:00:00",
          "2025-07-05T23:00:00",
          "2025-07-06T00:00:00",
          "2025-07-06T01:00:00",
          "2025-07-06T02:00:00",
          "2025-07-06T03:00:00",
          "2025-07-06T04:00:00",
          "2025-07-06T05:00:00",
          "2025-07-06T06:00:00",
          "2025-07-06T07:00:00",
          "2025-07-06T08:00:00",
          "2025-07-06T09:00:00",
          "2025-07-06T10:00:00",
          "2025-07-06T11:00:00",
          "2025-07-06T12:00:00",
          "2025-07-06T13:00:00",
          "2025-07-06T14:00:00",
          "2025-07-06T15:00:00",
          "2025-07-06T16:00:00",
          "2025-07-06T17:00:00",
          "2025-07-06T18:00:00",
          "2025-07-06T19:00:00",
          "2025-07-06T20:00:00",
          "2025-07-06T21:00:00",
          "2025-07-06T22:00:00",
          "2025-07-06T23:00:00",
          "2025-07-07T00:00:00",
          "2025-07-07T01:00:00",
          "2025-07-07T02:00:00",
          "2025-07-07T03:00:00",
          "2025-07-07T04:00:00",
          "2025-07-07T05:00:00",
          "2025-07-07T06:00:00",
          "2025-07-07T07:00:00",
          "2025-07-07T08:00:00",
          "2025-07-07T09:00:00",
          "2025-07-07T10:00:00",
          "2025-07-07T11:00:00",
          "2025-07-07T12:00:00",
          "2025-07-07T13:00:00",
          "2025-07-07T14:00:00",
          "2025-07-07T15:00:00",
          "2025-07-07T16:00:00",
          "2025-07-07T17:00:00",
          "2025-07-07T18:00:00",
          "2025-07-07T19:00:00",
          "2025-07-07T20:00:00",
          "2025-07-07T21:00:00",
          "2025-07-07T22:00:00",
          "2025-07-07T23:00:00",
          "2025-07-08T00:00:00",
          "2025-07-08T01:00:00",
          "2025-07-08T02:00:00",
          "2025-07-08T03:00:00",
          "2025-07-08T04:00:00",
          "2025-07-08T05:00:00",
          "2025-07-08T06:00:00",
          "2025-07-08T07:00:00",
          "2025-07-08T08:00:00",
          "2025-07-08T09:00:00",
          "2025-07-08T10:00:00",
          "2025-07-08T11:00:00",
          "2025-07-08T12:00:00",
          "2025-07-08T13:00:00",
          "2025-07-08T14:00:00",
          "2025-07-08T15:00:00",
          "2025-07-08T16:00:00",
          "2025-07-08T17:00:00",
          "2025-07-08T18:00:00",
          "2025-07-08T19:00:00",
          "2025-07-08T20:00:00",
          "2025-07-08T21:00:00",
          "2025-07-08T22:00:00",
          "2025-07-08T23:00:00",
          "2025-07-09T00:00:00",
          "2025-07-09T01:00:00",
          "2025-07-09T02:00:00",
          "2025-07-09T03:00:00",
          "2025-07-09T04:00:00",
          "2025-07-09T05:00:00",
          "2025-07-09T06:00:00",
          "2025-07-09T07:00:00",
          "2025-07-09T08:00:00",
          "2025-07-09T09:00:00",
          "2025-07-09T10:00:00",
          "2025-07-09T11:00:00",
          "2025-07-09T12:00:00"
         ],
         "xaxis": "x2",
         "y": [
          45.54629517640793,
          37.766769911210844,
          37.28666483100182,
          32.15145123290032,
          30.281618215630413,
          35.618432271900794,
          31.604271134436758,
          32.43221393474706,
          36.4928721556564,
          36.968147759463626,
          42.2791868224923,
          41.05550788369287,
          45.33416476724563,
          44.96092581463203,
          45.44463407037445,
          50.233299508882006,
          48.001731979095354,
          53.15619055239107,
          50.24130221176852,
          44.7451127105099,
          44.04657107645323,
          48.46153664940805,
          47.15096681460058,
          49.66406257326767,
          48.14370189496986,
          46.48687296051146,
          47.745677924610874,
          45.02572222996365,
          42.070076292036156,
          41.53248854555269,
          37.77380328861414,
          45.95494074235897,
          49.7102238778581,
          53.713580180621854,
          55.55450243165958,
          55.3889853771347,
          57.56733918322592,
          52.61054364898028,
          48.146068958125575,
          47.94228848789255,
          43.4827871213067,
          44.3499551718137,
          51.35452485331659,
          48.39704157050476,
          49.0859859494377,
          44.59747250660675,
          49.075042158245836,
          57.25902264972788,
          58.52074442378134,
          72.89965571476363,
          70.29702497082691,
          73.8569128253988,
          74.72059025764047,
          72.48556215282942,
          68.57722714618174,
          70.58247047750038,
          62.19255199123268,
          65.9976998908368,
          68.57096431786826,
          64.70380511768292,
          56.93473314323869,
          56.137501398468366,
          58.57070070587003,
          54.39865508846229,
          55.3716362574604,
          55.40958428648783,
          55.65323971520974,
          61.37366656260084,
          62.97459510800666,
          59.26024637062895,
          55.17173326788535,
          57.352768172607114,
          52.666804072098614,
          57.07339363787289,
          45.30650544472888,
          42.52921642273979,
          37.67882133609236,
          44.84399273262007,
          51.051506593610064,
          53.676060135923926,
          45.75068781775717,
          49.19352005224142,
          49.16025416941019,
          52.77159451275406,
          53.07925226805367,
          43.62571909964851,
          43.29712407844699,
          48.082682640177985,
          47.291793092749025,
          47.1103791770585,
          49.60847036567049,
          48.781375537707305,
          52.253391432360296,
          51.328183497163636,
          49.3067726754255,
          54.26839855749547,
          54.573101883325556,
          56.61864380568176,
          42.23677245324187,
          41.46420899247922,
          44.116171986113855,
          54.05548401446435,
          56.63562226583998,
          53.074076073618386,
          45.40559560670696,
          48.945082246333385,
          49.840074016744126,
          52.00668884769183,
          55.43648016823335,
          51.67782122009665,
          54.9660497980458,
          55.496958027611015,
          57.05475597748267,
          64.00824813575264,
          61.147622778912734,
          56.45442725454111,
          49.2922471667527,
          46.37109918042315,
          48.09202817329977,
          51.13184349804263,
          53.64903246961184
         ],
         "yaxis": "y2"
        }
       ],
       "layout": {
        "annotations": [
         {
          "font": {
           "size": 16
          },
          "showarrow": false,
          "text": "Candlestick Chart with 20-period MA",
          "x": 0.5,
          "xanchor": "center",
          "xref": "paper",
          "y": 0.9999999999999999,
          "yanchor": "bottom",
          "yref": "paper"
         },
         {
          "font": {
           "size": 16
          },
          "showarrow": false,
          "text": "RSI",
          "x": 0.5,
          "xanchor": "center",
          "xref": "paper",
          "y": 0.23399999999999999,
          "yanchor": "bottom",
          "yref": "paper"
         }
        ],
        "height": 700,
        "template": {
         "data": {
          "bar": [
           {
            "error_x": {
             "color": "#2a3f5f"
            },
            "error_y": {
             "color": "#2a3f5f"
            },
            "marker": {
             "line": {
              "color": "#E5ECF6",
              "width": 0.5
             },
             "pattern": {
              "fillmode": "overlay",
              "size": 10,
              "solidity": 0.2
             }
            },
            "type": "bar"
           }
          ],
          "barpolar": [
           {
            "marker": {
             "line": {
              "color": "#E5ECF6",
              "width": 0.5
             },
             "pattern": {
              "fillmode": "overlay",
              "size": 10,
              "solidity": 0.2
             }
            },
            "type": "barpolar"
           }
          ],
          "carpet": [
           {
            "aaxis": {
             "endlinecolor": "#2a3f5f",
             "gridcolor": "white",
             "linecolor": "white",
             "minorgridcolor": "white",
             "startlinecolor": "#2a3f5f"
            },
            "baxis": {
             "endlinecolor": "#2a3f5f",
             "gridcolor": "white",
             "linecolor": "white",
             "minorgridcolor": "white",
             "startlinecolor": "#2a3f5f"
            },
            "type": "carpet"
           }
          ],
          "choropleth": [
           {
            "colorbar": {
             "outlinewidth": 0,
             "ticks": ""
            },
            "type": "choropleth"
           }
          ],
          "contour": [
           {
            "colorbar": {
             "outlinewidth": 0,
             "ticks": ""
            },
            "colorscale": [
             [
              0,
              "#0d0887"
             ],
             [
              0.1111111111111111,
              "#46039f"
             ],
             [
              0.2222222222222222,
              "#7201a8"
             ],
             [
              0.3333333333333333,
              "#9c179e"
             ],
             [
              0.4444444444444444,
              "#bd3786"
             ],
             [
              0.5555555555555556,
              "#d8576b"
             ],
             [
              0.6666666666666666,
              "#ed7953"
             ],
             [
              0.7777777777777778,
              "#fb9f3a"
             ],
             [
              0.8888888888888888,
              "#fdca26"
             ],
             [
              1,
              "#f0f921"
             ]
            ],
            "type": "contour"
           }
          ],
          "contourcarpet": [
           {
            "colorbar": {
             "outlinewidth": 0,
             "ticks": ""
            },
            "type": "contourcarpet"
           }
          ],
          "heatmap": [
           {
            "colorbar": {
             "outlinewidth": 0,
             "ticks": ""
            },
            "colorscale": [
             [
              0,
              "#0d0887"
             ],
             [
              0.1111111111111111,
              "#46039f"
             ],
             [
              0.2222222222222222,
              "#7201a8"
             ],
             [
              0.3333333333333333,
              "#9c179e"
             ],
             [
              0.4444444444444444,
              "#bd3786"
             ],
             [
              0.5555555555555556,
              "#d8576b"
             ],
             [
              0.6666666666666666,
              "#ed7953"
             ],
             [
              0.7777777777777778,
              "#fb9f3a"
             ],
             [
              0.8888888888888888,
              "#fdca26"
             ],
             [
              1,
              "#f0f921"
             ]
            ],
            "type": "heatmap"
           }
          ],
          "heatmapgl": [
           {
            "colorbar": {
             "outlinewidth": 0,
             "ticks": ""
            },
            "colorscale": [
             [
              0,
              "#0d0887"
             ],
             [
              0.1111111111111111,
              "#46039f"
             ],
             [
              0.2222222222222222,
              "#7201a8"
             ],
             [
              0.3333333333333333,
              "#9c179e"
             ],
             [
              0.4444444444444444,
              "#bd3786"
             ],
             [
              0.5555555555555556,
              "#d8576b"
             ],
             [
              0.6666666666666666,
              "#ed7953"
             ],
             [
              0.7777777777777778,
              "#fb9f3a"
             ],
             [
              0.8888888888888888,
              "#fdca26"
             ],
             [
              1,
              "#f0f921"
             ]
            ],
            "type": "heatmapgl"
           }
          ],
          "histogram": [
           {
            "marker": {
             "pattern": {
              "fillmode": "overlay",
              "size": 10,
              "solidity": 0.2
             }
            },
            "type": "histogram"
           }
          ],
          "histogram2d": [
           {
            "colorbar": {
             "outlinewidth": 0,
             "ticks": ""
            },
            "colorscale": [
             [
              0,
              "#0d0887"
             ],
             [
              0.1111111111111111,
              "#46039f"
             ],
             [
              0.2222222222222222,
              "#7201a8"
             ],
             [
              0.3333333333333333,
              "#9c179e"
             ],
             [
              0.4444444444444444,
              "#bd3786"
             ],
             [
              0.5555555555555556,
              "#d8576b"
             ],
             [
              0.6666666666666666,
              "#ed7953"
             ],
             [
              0.7777777777777778,
              "#fb9f3a"
             ],
             [
              0.8888888888888888,
              "#fdca26"
             ],
             [
              1,
              "#f0f921"
             ]
            ],
            "type": "histogram2d"
           }
          ],
          "histogram2dcontour": [
           {
            "colorbar": {
             "outlinewidth": 0,
             "ticks": ""
            },
            "colorscale": [
             [
              0,
              "#0d0887"
             ],
             [
              0.1111111111111111,
              "#46039f"
             ],
             [
              0.2222222222222222,
              "#7201a8"
             ],
             [
              0.3333333333333333,
              "#9c179e"
             ],
             [
              0.4444444444444444,
              "#bd3786"
             ],
             [
              0.5555555555555556,
              "#d8576b"
             ],
             [
              0.6666666666666666,
              "#ed7953"
             ],
             [
              0.7777777777777778,
              "#fb9f3a"
             ],
             [
              0.8888888888888888,
              "#fdca26"
             ],
             [
              1,
              "#f0f921"
             ]
            ],
            "type": "histogram2dcontour"
           }
          ],
          "mesh3d": [
           {
            "colorbar": {
             "outlinewidth": 0,
             "ticks": ""
            },
            "type": "mesh3d"
           }
          ],
          "parcoords": [
           {
            "line": {
             "colorbar": {
              "outlinewidth": 0,
              "ticks": ""
             }
            },
            "type": "parcoords"
           }
          ],
          "pie": [
           {
            "automargin": true,
            "type": "pie"
           }
          ],
          "scatter": [
           {
            "fillpattern": {
             "fillmode": "overlay",
             "size": 10,
             "solidity": 0.2
            },
            "type": "scatter"
           }
          ],
          "scatter3d": [
           {
            "line": {
             "colorbar": {
              "outlinewidth": 0,
              "ticks": ""
             }
            },
            "marker": {
             "colorbar": {
              "outlinewidth": 0,
              "ticks": ""
             }
            },
            "type": "scatter3d"
           }
          ],
          "scattercarpet": [
           {
            "marker": {
             "colorbar": {
              "outlinewidth": 0,
              "ticks": ""
             }
            },
            "type": "scattercarpet"
           }
          ],
          "scattergeo": [
           {
            "marker": {
             "colorbar": {
              "outlinewidth": 0,
              "ticks": ""
             }
            },
            "type": "scattergeo"
           }
          ],
          "scattergl": [
           {
            "marker": {
             "colorbar": {
              "outlinewidth": 0,
              "ticks": ""
             }
            },
            "type": "scattergl"
           }
          ],
          "scattermapbox": [
           {
            "marker": {
             "colorbar": {
              "outlinewidth": 0,
              "ticks": ""
             }
            },
            "type": "scattermapbox"
           }
          ],
          "scatterpolar": [
           {
            "marker": {
             "colorbar": {
              "outlinewidth": 0,
              "ticks": ""
             }
            },
            "type": "scatterpolar"
           }
          ],
          "scatterpolargl": [
           {
            "marker": {
             "colorbar": {
              "outlinewidth": 0,
              "ticks": ""
             }
            },
            "type": "scatterpolargl"
           }
          ],
          "scatterternary": [
           {
            "marker": {
             "colorbar": {
              "outlinewidth": 0,
              "ticks": ""
             }
            },
            "type": "scatterternary"
           }
          ],
          "surface": [
           {
            "colorbar": {
             "outlinewidth": 0,
             "ticks": ""
            },
            "colorscale": [
             [
              0,
              "#0d0887"
             ],
             [
              0.1111111111111111,
              "#46039f"
             ],
             [
              0.2222222222222222,
              "#7201a8"
             ],
             [
              0.3333333333333333,
              "#9c179e"
             ],
             [
              0.4444444444444444,
              "#bd3786"
             ],
             [
              0.5555555555555556,
              "#d8576b"
             ],
             [
              0.6666666666666666,
              "#ed7953"
             ],
             [
              0.7777777777777778,
              "#fb9f3a"
             ],
             [
              0.8888888888888888,
              "#fdca26"
             ],
             [
              1,
              "#f0f921"
             ]
            ],
            "type": "surface"
           }
          ],
          "table": [
           {
            "cells": {
             "fill": {
              "color": "#EBF0F8"
             },
             "line": {
              "color": "white"
             }
            },
            "header": {
             "fill": {
              "color": "#C8D4E3"
             },
             "line": {
              "color": "white"
             }
            },
            "type": "table"
           }
          ]
         },
         "layout": {
          "annotationdefaults": {
           "arrowcolor": "#2a3f5f",
           "arrowhead": 0,
           "arrowwidth": 1
          },
          "autotypenumbers": "strict",
          "coloraxis": {
           "colorbar": {
            "outlinewidth": 0,
            "ticks": ""
           }
          },
          "colorscale": {
           "diverging": [
            [
             0,
             "#8e0152"
            ],
            [
             0.1,
             "#c51b7d"
            ],
            [
             0.2,
             "#de77ae"
            ],
            [
             0.3,
             "#f1b6da"
            ],
            [
             0.4,
             "#fde0ef"
            ],
            [
             0.5,
             "#f7f7f7"
            ],
            [
             0.6,
             "#e6f5d0"
            ],
            [
             0.7,
             "#b8e186"
            ],
            [
             0.8,
             "#7fbc41"
            ],
            [
             0.9,
             "#4d9221"
            ],
            [
             1,
             "#276419"
            ]
           ],
           "sequential": [
            [
             0,
             "#0d0887"
            ],
            [
             0.1111111111111111,
             "#46039f"
            ],
            [
             0.2222222222222222,
             "#7201a8"
            ],
            [
             0.3333333333333333,
             "#9c179e"
            ],
            [
             0.4444444444444444,
             "#bd3786"
            ],
            [
             0.5555555555555556,
             "#d8576b"
            ],
            [
             0.6666666666666666,
             "#ed7953"
            ],
            [
             0.7777777777777778,
             "#fb9f3a"
            ],
            [
             0.8888888888888888,
             "#fdca26"
            ],
            [
             1,
             "#f0f921"
            ]
           ],
           "sequentialminus": [
            [
             0,
             "#0d0887"
            ],
            [
             0.1111111111111111,
             "#46039f"
            ],
            [
             0.2222222222222222,
             "#7201a8"
            ],
            [
             0.3333333333333333,
             "#9c179e"
            ],
            [
             0.4444444444444444,
             "#bd3786"
            ],
            [
             0.5555555555555556,
             "#d8576b"
            ],
            [
             0.6666666666666666,
             "#ed7953"
            ],
            [
             0.7777777777777778,
             "#fb9f3a"
            ],
            [
             0.8888888888888888,
             "#fdca26"
            ],
            [
             1,
             "#f0f921"
            ]
           ]
          },
          "colorway": [
           "#636efa",
           "#EF553B",
           "#00cc96",
           "#ab63fa",
           "#FFA15A",
           "#19d3f3",
           "#FF6692",
           "#B6E880",
           "#FF97FF",
           "#FECB52"
          ],
          "font": {
           "color": "#2a3f5f"
          },
          "geo": {
           "bgcolor": "white",
           "lakecolor": "white",
           "landcolor": "#E5ECF6",
           "showlakes": true,
           "showland": true,
           "subunitcolor": "white"
          },
          "hoverlabel": {
           "align": "left"
          },
          "hovermode": "closest",
          "mapbox": {
           "style": "light"
          },
          "paper_bgcolor": "white",
          "plot_bgcolor": "#E5ECF6",
          "polar": {
           "angularaxis": {
            "gridcolor": "white",
            "linecolor": "white",
            "ticks": ""
           },
           "bgcolor": "#E5ECF6",
           "radialaxis": {
            "gridcolor": "white",
            "linecolor": "white",
            "ticks": ""
           }
          },
          "scene": {
           "xaxis": {
            "backgroundcolor": "#E5ECF6",
            "gridcolor": "white",
            "gridwidth": 2,
            "linecolor": "white",
            "showbackground": true,
            "ticks": "",
            "zerolinecolor": "white"
           },
           "yaxis": {
            "backgroundcolor": "#E5ECF6",
            "gridcolor": "white",
            "gridwidth": 2,
            "linecolor": "white",
            "showbackground": true,
            "ticks": "",
            "zerolinecolor": "white"
           },
           "zaxis": {
            "backgroundcolor": "#E5ECF6",
            "gridcolor": "white",
            "gridwidth": 2,
            "linecolor": "white",
            "showbackground": true,
            "ticks": "",
            "zerolinecolor": "white"
           }
          },
          "shapedefaults": {
           "line": {
            "color": "#2a3f5f"
           }
          },
          "ternary": {
           "aaxis": {
            "gridcolor": "white",
            "linecolor": "white",
            "ticks": ""
           },
           "baxis": {
            "gridcolor": "white",
            "linecolor": "white",
            "ticks": ""
           },
           "bgcolor": "#E5ECF6",
           "caxis": {
            "gridcolor": "white",
            "linecolor": "white",
            "ticks": ""
           }
          },
          "title": {
           "x": 0.05
          },
          "xaxis": {
           "automargin": true,
           "gridcolor": "white",
           "linecolor": "white",
           "ticks": "",
           "title": {
            "standoff": 15
           },
           "zerolinecolor": "white",
           "zerolinewidth": 2
          },
          "yaxis": {
           "automargin": true,
           "gridcolor": "white",
           "linecolor": "white",
           "ticks": "",
           "title": {
            "standoff": 15
           },
           "zerolinecolor": "white",
           "zerolinewidth": 2
          }
         }
        },
        "width": 900,
        "xaxis": {
         "anchor": "y",
         "domain": [
          0,
          1
         ],
         "matches": "x2",
         "showticklabels": false
        },
        "xaxis2": {
         "anchor": "y2",
         "domain": [
          0,
          1
         ]
        },
        "yaxis": {
         "anchor": "x",
         "domain": [
          0.45399999999999996,
          0.9999999999999999
         ]
        },
        "yaxis2": {
         "anchor": "x2",
         "domain": [
          0,
          0.23399999999999999
         ]
        }
       }
      },
      "text/html": [
       "<div>                            <div id=\"404ddb57-1487-4f3d-80ba-e822f5499510\" class=\"plotly-graph-div\" style=\"height:700px; width:900px;\"></div>            <script type=\"text/javascript\">                require([\"plotly\"], function(Plotly) {                    window.PLOTLYENV=window.PLOTLYENV || {};                                    if (document.getElementById(\"404ddb57-1487-4f3d-80ba-e822f5499510\")) {                    Plotly.newPlot(                        \"404ddb57-1487-4f3d-80ba-e822f5499510\",                        [{\"close\":[658.73,655.73,655.52,653.07,652.05,653.4,651.32,651.53,652.56,652.68,654.05,653.6,654.73,654.61,654.73,655.95,655.35,656.73,655.98,654.42,654.21,655.28,654.93,655.53,655.16,654.76,655.02,654.4,653.69,653.56,652.62,654.08,654.85,655.74,656.17,656.14,656.62,655.76,654.9,654.86,653.96,654.1,655.32,654.77,654.89,654.05,654.8,656.45,656.74,661.58,661.1,662.8,663.25,662.86,662.17,662.98,661.39,662.78,663.83,663.06,661.33,661.14,661.88,660.93,661.2,661.21,661.27,662.78,663.25,662.59,661.82,662.35,661.45,662.5,659.78,658.98,657.42,659.07,660.76,661.55,659.18,660.19,660.18,661.23,661.32,658.54,658.43,659.68,659.45,659.4,660.0,659.8,660.61,660.41,659.98,661.08,661.15,661.61,658.38,658.16,658.69,661.04,661.77,660.96,658.94,659.84,660.07,660.62,661.53,660.67,661.53,661.67,662.07,664.12,663.57,662.62,660.95,660.18,660.58,661.3,661.92],\"high\":[660.09,659.69,655.91,655.56,652.89,653.4,653.39,652.44,652.56,652.8,654.06,654.08,654.83,654.77,654.84,656.1,656.03,656.73,656.73,657.55,655.45,655.43,655.38,655.89,655.5,655.53,655.19,655.24,654.8,654.17,653.62,654.1,654.85,655.74,656.17,656.39,656.66,656.58,656.1,654.95,655.4,654.24,655.87,655.4,655.04,654.84,654.94,656.46,656.74,661.92,662.6,663.49,663.39,663.68,663.35,663.57,663.55,664.69,664.36,663.84,663.14,661.6,663.17,663.06,661.39,661.59,661.92,662.78,663.25,663.47,662.91,662.55,662.3,662.5,662.67,660.67,659.3,659.6,660.76,661.85,661.28,660.5,660.42,661.26,662.57,661.27,659.85,659.79,659.78,660.09,660.38,660.42,660.98,661.34,660.98,661.48,661.51,661.81,661.61,659.29,659.5,661.53,661.8,661.94,660.96,659.89,660.07,660.74,661.53,662.29,662.18,661.82,662.07,664.12,664.55,663.81,662.87,660.9,660.63,662.15,662.18],\"low\":[658.31,655.73,653.31,652.22,650.22,651.88,651.05,650.77,650.92,652.0,652.46,653.06,653.43,654.04,652.97,654.6,654.94,655.15,655.1,653.79,653.95,654.02,654.75,654.96,654.38,654.73,654.33,654.2,652.64,652.01,652.33,652.05,653.87,654.6,655.24,655.86,655.94,655.6,654.9,654.47,653.81,653.55,653.9,654.72,653.55,654.05,653.91,654.52,655.79,656.77,659.59,661.14,662.53,662.61,661.29,662.17,661.29,661.07,662.77,662.04,661.12,660.43,661.16,660.83,660.62,661.01,661.06,660.88,661.97,662.28,661.79,661.45,660.83,660.26,659.34,658.87,657.05,656.89,658.43,660.61,659.08,658.01,659.63,660.2,661.01,658.47,657.51,658.21,658.71,658.86,659.35,659.49,659.72,660.19,659.3,659.99,660.07,660.12,658.14,657.72,657.38,658.66,660.84,660.36,658.91,657.76,658.74,659.78,660.06,660.15,660.53,660.86,661.26,662.07,663.1,662.38,660.95,659.76,659.16,660.59,661.32],\"name\":\"Candlestick\",\"open\":[659.63,658.74,655.67,655.51,652.79,652.03,653.39,651.3,651.05,652.53,652.71,654.08,653.58,654.77,654.6,654.6,655.96,655.3,656.73,655.99,654.44,654.24,655.29,654.96,655.5,655.16,654.71,654.95,654.38,653.69,653.62,652.6,654.1,654.86,655.76,656.2,656.16,656.58,655.76,654.87,654.83,653.97,654.1,655.3,654.75,654.8,654.01,654.78,656.46,656.77,661.57,661.14,662.81,663.24,662.85,662.17,662.98,661.43,662.77,663.73,663.09,661.36,661.21,661.9,660.84,661.18,661.25,661.3,662.79,663.25,662.6,661.82,662.3,661.45,662.39,659.78,659.01,657.39,659.11,660.78,661.23,659.2,660.21,660.2,661.01,661.27,658.46,658.21,659.72,659.49,659.45,659.99,659.81,660.6,660.37,659.99,661.11,661.2,661.61,658.35,658.19,658.69,661.22,661.76,660.96,658.94,659.86,660.07,660.63,661.6,660.68,661.54,661.68,662.07,664.13,663.57,662.61,660.9,660.18,660.59,661.32],\"x\":[\"2025-07-04T12:00:00\",\"2025-07-04T13:00:00\",\"2025-07-04T14:00:00\",\"2025-07-04T15:00:00\",\"2025-07-04T16:00:00\",\"2025-07-04T17:00:00\",\"2025-07-04T18:00:00\",\"2025-07-04T19:00:00\",\"2025-07-04T20:00:00\",\"2025-07-04T21:00:00\",\"2025-07-04T22:00:00\",\"2025-07-04T23:00:00\",\"2025-07-05T00:00:00\",\"2025-07-05T01:00:00\",\"2025-07-05T02:00:00\",\"2025-07-05T03:00:00\",\"2025-07-05T04:00:00\",\"2025-07-05T05:00:00\",\"2025-07-05T06:00:00\",\"2025-07-05T07:00:00\",\"2025-07-05T08:00:00\",\"2025-07-05T09:00:00\",\"2025-07-05T10:00:00\",\"2025-07-05T11:00:00\",\"2025-07-05T12:00:00\",\"2025-07-05T13:00:00\",\"2025-07-05T14:00:00\",\"2025-07-05T15:00:00\",\"2025-07-05T16:00:00\",\"2025-07-05T17:00:00\",\"2025-07-05T18:00:00\",\"2025-07-05T19:00:00\",\"2025-07-05T20:00:00\",\"2025-07-05T21:00:00\",\"2025-07-05T22:00:00\",\"2025-07-05T23:00:00\",\"2025-07-06T00:00:00\",\"2025-07-06T01:00:00\",\"2025-07-06T02:00:00\",\"2025-07-06T03:00:00\",\"2025-07-06T04:00:00\",\"2025-07-06T05:00:00\",\"2025-07-06T06:00:00\",\"2025-07-06T07:00:00\",\"2025-07-06T08:00:00\",\"2025-07-06T09:00:00\",\"2025-07-06T10:00:00\",\"2025-07-06T11:00:00\",\"2025-07-06T12:00:00\",\"2025-07-06T13:00:00\",\"2025-07-06T14:00:00\",\"2025-07-06T15:00:00\",\"2025-07-06T16:00:00\",\"2025-07-06T17:00:00\",\"2025-07-06T18:00:00\",\"2025-07-06T19:00:00\",\"2025-07-06T20:00:00\",\"2025-07-06T21:00:00\",\"2025-07-06T22:00:00\",\"2025-07-06T23:00:00\",\"2025-07-07T00:00:00\",\"2025-07-07T01:00:00\",\"2025-07-07T02:00:00\",\"2025-07-07T03:00:00\",\"2025-07-07T04:00:00\",\"2025-07-07T05:00:00\",\"2025-07-07T06:00:00\",\"2025-07-07T07:00:00\",\"2025-07-07T08:00:00\",\"2025-07-07T09:00:00\",\"2025-07-07T10:00:00\",\"2025-07-07T11:00:00\",\"2025-07-07T12:00:00\",\"2025-07-07T13:00:00\",\"2025-07-07T14:00:00\",\"2025-07-07T15:00:00\",\"2025-07-07T16:00:00\",\"2025-07-07T17:00:00\",\"2025-07-07T18:00:00\",\"2025-07-07T19:00:00\",\"2025-07-07T20:00:00\",\"2025-07-07T21:00:00\",\"2025-07-07T22:00:00\",\"2025-07-07T23:00:00\",\"2025-07-08T00:00:00\",\"2025-07-08T01:00:00\",\"2025-07-08T02:00:00\",\"2025-07-08T03:00:00\",\"2025-07-08T04:00:00\",\"2025-07-08T05:00:00\",\"2025-07-08T06:00:00\",\"2025-07-08T07:00:00\",\"2025-07-08T08:00:00\",\"2025-07-08T09:00:00\",\"2025-07-08T10:00:00\",\"2025-07-08T11:00:00\",\"2025-07-08T12:00:00\",\"2025-07-08T13:00:00\",\"2025-07-08T14:00:00\",\"2025-07-08T15:00:00\",\"2025-07-08T16:00:00\",\"2025-07-08T17:00:00\",\"2025-07-08T18:00:00\",\"2025-07-08T19:00:00\",\"2025-07-08T20:00:00\",\"2025-07-08T21:00:00\",\"2025-07-08T22:00:00\",\"2025-07-08T23:00:00\",\"2025-07-09T00:00:00\",\"2025-07-09T01:00:00\",\"2025-07-09T02:00:00\",\"2025-07-09T03:00:00\",\"2025-07-09T04:00:00\",\"2025-07-09T05:00:00\",\"2025-07-09T06:00:00\",\"2025-07-09T07:00:00\",\"2025-07-09T08:00:00\",\"2025-07-09T09:00:00\",\"2025-07-09T10:00:00\",\"2025-07-09T11:00:00\",\"2025-07-09T12:00:00\"],\"type\":\"candlestick\",\"xaxis\":\"x\",\"yaxis\":\"y\"},{\"line\":{\"color\":\"blue\",\"width\":2},\"mode\":\"lines\",\"name\":\"20-period MA\",\"x\":[\"2025-07-04T12:00:00\",\"2025-07-04T13:00:00\",\"2025-07-04T14:00:00\",\"2025-07-04T15:00:00\",\"2025-07-04T16:00:00\",\"2025-07-04T17:00:00\",\"2025-07-04T18:00:00\",\"2025-07-04T19:00:00\",\"2025-07-04T20:00:00\",\"2025-07-04T21:00:00\",\"2025-07-04T22:00:00\",\"2025-07-04T23:00:00\",\"2025-07-05T00:00:00\",\"2025-07-05T01:00:00\",\"2025-07-05T02:00:00\",\"2025-07-05T03:00:00\",\"2025-07-05T04:00:00\",\"2025-07-05T05:00:00\",\"2025-07-05T06:00:00\",\"2025-07-05T07:00:00\",\"2025-07-05T08:00:00\",\"2025-07-05T09:00:00\",\"2025-07-05T10:00:00\",\"2025-07-05T11:00:00\",\"2025-07-05T12:00:00\",\"2025-07-05T13:00:00\",\"2025-07-05T14:00:00\",\"2025-07-05T15:00:00\",\"2025-07-05T16:00:00\",\"2025-07-05T17:00:00\",\"2025-07-05T18:00:00\",\"2025-07-05T19:00:00\",\"2025-07-05T20:00:00\",\"2025-07-05T21:00:00\",\"2025-07-05T22:00:00\",\"2025-07-05T23:00:00\",\"2025-07-06T00:00:00\",\"2025-07-06T01:00:00\",\"2025-07-06T02:00:00\",\"2025-07-06T03:00:00\",\"2025-07-06T04:00:00\",\"2025-07-06T05:00:00\",\"2025-07-06T06:00:00\",\"2025-07-06T07:00:00\",\"2025-07-06T08:00:00\",\"2025-07-06T09:00:00\",\"2025-07-06T10:00:00\",\"2025-07-06T11:00:00\",\"2025-07-06T12:00:00\",\"2025-07-06T13:00:00\",\"2025-07-06T14:00:00\",\"2025-07-06T15:00:00\",\"2025-07-06T16:00:00\",\"2025-07-06T17:00:00\",\"2025-07-06T18:00:00\",\"2025-07-06T19:00:00\",\"2025-07-06T20:00:00\",\"2025-07-06T21:00:00\",\"2025-07-06T22:00:00\",\"2025-07-06T23:00:00\",\"2025-07-07T00:00:00\",\"2025-07-07T01:00:00\",\"2025-07-07T02:00:00\",\"2025-07-07T03:00:00\",\"2025-07-07T04:00:00\",\"2025-07-07T05:00:00\",\"2025-07-07T06:00:00\",\"2025-07-07T07:00:00\",\"2025-07-07T08:00:00\",\"2025-07-07T09:00:00\",\"2025-07-07T10:00:00\",\"2025-07-07T11:00:00\",\"2025-07-07T12:00:00\",\"2025-07-07T13:00:00\",\"2025-07-07T14:00:00\",\"2025-07-07T15:00:00\",\"2025-07-07T16:00:00\",\"2025-07-07T17:00:00\",\"2025-07-07T18:00:00\",\"2025-07-07T19:00:00\",\"2025-07-07T20:00:00\",\"2025-07-07T21:00:00\",\"2025-07-07T22:00:00\",\"2025-07-07T23:00:00\",\"2025-07-08T00:00:00\",\"2025-07-08T01:00:00\",\"2025-07-08T02:00:00\",\"2025-07-08T03:00:00\",\"2025-07-08T04:00:00\",\"2025-07-08T05:00:00\",\"2025-07-08T06:00:00\",\"2025-07-08T07:00:00\",\"2025-07-08T08:00:00\",\"2025-07-08T09:00:00\",\"2025-07-08T10:00:00\",\"2025-07-08T11:00:00\",\"2025-07-08T12:00:00\",\"2025-07-08T13:00:00\",\"2025-07-08T14:00:00\",\"2025-07-08T15:00:00\",\"2025-07-08T16:00:00\",\"2025-07-08T17:00:00\",\"2025-07-08T18:00:00\",\"2025-07-08T19:00:00\",\"2025-07-08T20:00:00\",\"2025-07-08T21:00:00\",\"2025-07-08T22:00:00\",\"2025-07-08T23:00:00\",\"2025-07-09T00:00:00\",\"2025-07-09T01:00:00\",\"2025-07-09T02:00:00\",\"2025-07-09T03:00:00\",\"2025-07-09T04:00:00\",\"2025-07-09T05:00:00\",\"2025-07-09T06:00:00\",\"2025-07-09T07:00:00\",\"2025-07-09T08:00:00\",\"2025-07-09T09:00:00\",\"2025-07-09T10:00:00\",\"2025-07-09T11:00:00\",\"2025-07-09T12:00:00\"],\"y\":[660.4065,660.236,659.9875,659.567,659.0759999999999,658.599,657.972,657.372,656.8875,656.4219999999999,656.0840000000001,655.657,655.3945,655.11,654.9365,654.925,654.8064999999999,654.7535,654.5965,654.337,654.111,654.0885000000001,654.059,654.182,654.3375,654.4055,654.5905,654.734,654.7905,654.8345,654.763,654.787,654.793,654.8495,654.9215,654.9309999999999,654.9945,654.9459999999999,654.892,654.914,654.9015,654.8425,654.862,654.8240000000001,654.8105,654.775,654.764,654.8665,655.019,655.42,655.8439999999999,656.28,656.7,657.0559999999999,657.356,657.698,657.9365,658.2875,658.734,659.144,659.5125,659.8644999999999,660.1925,660.5004999999999,660.816,661.174,661.4975,661.8140000000001,662.1395,662.19,662.226,662.2035,662.1134999999999,662.0955,661.976,661.7760000000001,661.5775,661.392,661.2384999999999,661.163,661.0555,661.008,660.923,660.938,660.9440000000001,660.8105,660.6685,660.5135,660.3235,660.164,660.073,659.9455,659.9035,659.7990000000001,659.809,659.914,660.1005,660.2275000000001,660.1085,659.939,659.9145,659.957,660.0364999999999,660.023,659.9039999999999,659.9689999999999,660.051,660.098,660.202,660.2655000000001,660.342,660.4354999999999,660.5084999999999,660.694,660.8734999999999,660.9505,660.9404999999999,660.8689999999999,660.979,661.1360000000001,661.2975],\"type\":\"scatter\",\"xaxis\":\"x\",\"yaxis\":\"y\"},{\"line\":{\"color\":\"orange\",\"width\":2},\"mode\":\"lines\",\"name\":\"RSI\",\"x\":[\"2025-07-04T12:00:00\",\"2025-07-04T13:00:00\",\"2025-07-04T14:00:00\",\"2025-07-04T15:00:00\",\"2025-07-04T16:00:00\",\"2025-07-04T17:00:00\",\"2025-07-04T18:00:00\",\"2025-07-04T19:00:00\",\"2025-07-04T20:00:00\",\"2025-07-04T21:00:00\",\"2025-07-04T22:00:00\",\"2025-07-04T23:00:00\",\"2025-07-05T00:00:00\",\"2025-07-05T01:00:00\",\"2025-07-05T02:00:00\",\"2025-07-05T03:00:00\",\"2025-07-05T04:00:00\",\"2025-07-05T05:00:00\",\"2025-07-05T06:00:00\",\"2025-07-05T07:00:00\",\"2025-07-05T08:00:00\",\"2025-07-05T09:00:00\",\"2025-07-05T10:00:00\",\"2025-07-05T11:00:00\",\"2025-07-05T12:00:00\",\"2025-07-05T13:00:00\",\"2025-07-05T14:00:00\",\"2025-07-05T15:00:00\",\"2025-07-05T16:00:00\",\"2025-07-05T17:00:00\",\"2025-07-05T18:00:00\",\"2025-07-05T19:00:00\",\"2025-07-05T20:00:00\",\"2025-07-05T21:00:00\",\"2025-07-05T22:00:00\",\"2025-07-05T23:00:00\",\"2025-07-06T00:00:00\",\"2025-07-06T01:00:00\",\"2025-07-06T02:00:00\",\"2025-07-06T03:00:00\",\"2025-07-06T04:00:00\",\"2025-07-06T05:00:00\",\"2025-07-06T06:00:00\",\"2025-07-06T07:00:00\",\"2025-07-06T08:00:00\",\"2025-07-06T09:00:00\",\"2025-07-06T10:00:00\",\"2025-07-06T11:00:00\",\"2025-07-06T12:00:00\",\"2025-07-06T13:00:00\",\"2025-07-06T14:00:00\",\"2025-07-06T15:00:00\",\"2025-07-06T16:00:00\",\"2025-07-06T17:00:00\",\"2025-07-06T18:00:00\",\"2025-07-06T19:00:00\",\"2025-07-06T20:00:00\",\"2025-07-06T21:00:00\",\"2025-07-06T22:00:00\",\"2025-07-06T23:00:00\",\"2025-07-07T00:00:00\",\"2025-07-07T01:00:00\",\"2025-07-07T02:00:00\",\"2025-07-07T03:00:00\",\"2025-07-07T04:00:00\",\"2025-07-07T05:00:00\",\"2025-07-07T06:00:00\",\"2025-07-07T07:00:00\",\"2025-07-07T08:00:00\",\"2025-07-07T09:00:00\",\"2025-07-07T10:00:00\",\"2025-07-07T11:00:00\",\"2025-07-07T12:00:00\",\"2025-07-07T13:00:00\",\"2025-07-07T14:00:00\",\"2025-07-07T15:00:00\",\"2025-07-07T16:00:00\",\"2025-07-07T17:00:00\",\"2025-07-07T18:00:00\",\"2025-07-07T19:00:00\",\"2025-07-07T20:00:00\",\"2025-07-07T21:00:00\",\"2025-07-07T22:00:00\",\"2025-07-07T23:00:00\",\"2025-07-08T00:00:00\",\"2025-07-08T01:00:00\",\"2025-07-08T02:00:00\",\"2025-07-08T03:00:00\",\"2025-07-08T04:00:00\",\"2025-07-08T05:00:00\",\"2025-07-08T06:00:00\",\"2025-07-08T07:00:00\",\"2025-07-08T08:00:00\",\"2025-07-08T09:00:00\",\"2025-07-08T10:00:00\",\"2025-07-08T11:00:00\",\"2025-07-08T12:00:00\",\"2025-07-08T13:00:00\",\"2025-07-08T14:00:00\",\"2025-07-08T15:00:00\",\"2025-07-08T16:00:00\",\"2025-07-08T17:00:00\",\"2025-07-08T18:00:00\",\"2025-07-08T19:00:00\",\"2025-07-08T20:00:00\",\"2025-07-08T21:00:00\",\"2025-07-08T22:00:00\",\"2025-07-08T23:00:00\",\"2025-07-09T00:00:00\",\"2025-07-09T01:00:00\",\"2025-07-09T02:00:00\",\"2025-07-09T03:00:00\",\"2025-07-09T04:00:00\",\"2025-07-09T05:00:00\",\"2025-07-09T06:00:00\",\"2025-07-09T07:00:00\",\"2025-07-09T08:00:00\",\"2025-07-09T09:00:00\",\"2025-07-09T10:00:00\",\"2025-07-09T11:00:00\",\"2025-07-09T12:00:00\"],\"y\":[45.54629517640793,37.766769911210844,37.28666483100182,32.15145123290032,30.281618215630413,35.618432271900794,31.604271134436758,32.43221393474706,36.4928721556564,36.968147759463626,42.2791868224923,41.05550788369287,45.33416476724563,44.96092581463203,45.44463407037445,50.233299508882006,48.001731979095354,53.15619055239107,50.24130221176852,44.7451127105099,44.04657107645323,48.46153664940805,47.15096681460058,49.66406257326767,48.14370189496986,46.48687296051146,47.745677924610874,45.02572222996365,42.070076292036156,41.53248854555269,37.77380328861414,45.95494074235897,49.7102238778581,53.713580180621854,55.55450243165958,55.3889853771347,57.56733918322592,52.61054364898028,48.146068958125575,47.94228848789255,43.4827871213067,44.3499551718137,51.35452485331659,48.39704157050476,49.0859859494377,44.59747250660675,49.075042158245836,57.25902264972788,58.52074442378134,72.89965571476363,70.29702497082691,73.8569128253988,74.72059025764047,72.48556215282942,68.57722714618174,70.58247047750038,62.19255199123268,65.9976998908368,68.57096431786826,64.70380511768292,56.93473314323869,56.137501398468366,58.57070070587003,54.39865508846229,55.3716362574604,55.40958428648783,55.65323971520974,61.37366656260084,62.97459510800666,59.26024637062895,55.17173326788535,57.352768172607114,52.666804072098614,57.07339363787289,45.30650544472888,42.52921642273979,37.67882133609236,44.84399273262007,51.051506593610064,53.676060135923926,45.75068781775717,49.19352005224142,49.16025416941019,52.77159451275406,53.07925226805367,43.62571909964851,43.29712407844699,48.082682640177985,47.291793092749025,47.1103791770585,49.60847036567049,48.781375537707305,52.253391432360296,51.328183497163636,49.3067726754255,54.26839855749547,54.573101883325556,56.61864380568176,42.23677245324187,41.46420899247922,44.116171986113855,54.05548401446435,56.63562226583998,53.074076073618386,45.40559560670696,48.945082246333385,49.840074016744126,52.00668884769183,55.43648016823335,51.67782122009665,54.9660497980458,55.496958027611015,57.05475597748267,64.00824813575264,61.147622778912734,56.45442725454111,49.2922471667527,46.37109918042315,48.09202817329977,51.13184349804263,53.64903246961184],\"type\":\"scatter\",\"xaxis\":\"x2\",\"yaxis\":\"y2\"}],                        {\"template\":{\"data\":{\"histogram2dcontour\":[{\"type\":\"histogram2dcontour\",\"colorbar\":{\"outlinewidth\":0,\"ticks\":\"\"},\"colorscale\":[[0.0,\"#0d0887\"],[0.1111111111111111,\"#46039f\"],[0.2222222222222222,\"#7201a8\"],[0.3333333333333333,\"#9c179e\"],[0.4444444444444444,\"#bd3786\"],[0.5555555555555556,\"#d8576b\"],[0.6666666666666666,\"#ed7953\"],[0.7777777777777778,\"#fb9f3a\"],[0.8888888888888888,\"#fdca26\"],[1.0,\"#f0f921\"]]}],\"choropleth\":[{\"type\":\"choropleth\",\"colorbar\":{\"outlinewidth\":0,\"ticks\":\"\"}}],\"histogram2d\":[{\"type\":\"histogram2d\",\"colorbar\":{\"outlinewidth\":0,\"ticks\":\"\"},\"colorscale\":[[0.0,\"#0d0887\"],[0.1111111111111111,\"#46039f\"],[0.2222222222222222,\"#7201a8\"],[0.3333333333333333,\"#9c179e\"],[0.4444444444444444,\"#bd3786\"],[0.5555555555555556,\"#d8576b\"],[0.6666666666666666,\"#ed7953\"],[0.7777777777777778,\"#fb9f3a\"],[0.8888888888888888,\"#fdca26\"],[1.0,\"#f0f921\"]]}],\"heatmap\":[{\"type\":\"heatmap\",\"colorbar\":{\"outlinewidth\":0,\"ticks\":\"\"},\"colorscale\":[[0.0,\"#0d0887\"],[0.1111111111111111,\"#46039f\"],[0.2222222222222222,\"#7201a8\"],[0.3333333333333333,\"#9c179e\"],[0.4444444444444444,\"#bd3786\"],[0.5555555555555556,\"#d8576b\"],[0.6666666666666666,\"#ed7953\"],[0.7777777777777778,\"#fb9f3a\"],[0.8888888888888888,\"#fdca26\"],[1.0,\"#f0f921\"]]}],\"heatmapgl\":[{\"type\":\"heatmapgl\",\"colorbar\":{\"outlinewidth\":0,\"ticks\":\"\"},\"colorscale\":[[0.0,\"#0d0887\"],[0.1111111111111111,\"#46039f\"],[0.2222222222222222,\"#7201a8\"],[0.3333333333333333,\"#9c179e\"],[0.4444444444444444,\"#bd3786\"],[0.5555555555555556,\"#d8576b\"],[0.6666666666666666,\"#ed7953\"],[0.7777777777777778,\"#fb9f3a\"],[0.8888888888888888,\"#fdca26\"],[1.0,\"#f0f921\"]]}],\"contourcarpet\":[{\"type\":\"contourcarpet\",\"colorbar\":{\"outlinewidth\":0,\"ticks\":\"\"}}],\"contour\":[{\"type\":\"contour\",\"colorbar\":{\"outlinewidth\":0,\"ticks\":\"\"},\"colorscale\":[[0.0,\"#0d0887\"],[0.1111111111111111,\"#46039f\"],[0.2222222222222222,\"#7201a8\"],[0.3333333333333333,\"#9c179e\"],[0.4444444444444444,\"#bd3786\"],[0.5555555555555556,\"#d8576b\"],[0.6666666666666666,\"#ed7953\"],[0.7777777777777778,\"#fb9f3a\"],[0.8888888888888888,\"#fdca26\"],[1.0,\"#f0f921\"]]}],\"surface\":[{\"type\":\"surface\",\"colorbar\":{\"outlinewidth\":0,\"ticks\":\"\"},\"colorscale\":[[0.0,\"#0d0887\"],[0.1111111111111111,\"#46039f\"],[0.2222222222222222,\"#7201a8\"],[0.3333333333333333,\"#9c179e\"],[0.4444444444444444,\"#bd3786\"],[0.5555555555555556,\"#d8576b\"],[0.6666666666666666,\"#ed7953\"],[0.7777777777777778,\"#fb9f3a\"],[0.8888888888888888,\"#fdca26\"],[1.0,\"#f0f921\"]]}],\"mesh3d\":[{\"type\":\"mesh3d\",\"colorbar\":{\"outlinewidth\":0,\"ticks\":\"\"}}],\"scatter\":[{\"fillpattern\":{\"fillmode\":\"overlay\",\"size\":10,\"solidity\":0.2},\"type\":\"scatter\"}],\"parcoords\":[{\"type\":\"parcoords\",\"line\":{\"colorbar\":{\"outlinewidth\":0,\"ticks\":\"\"}}}],\"scatterpolargl\":[{\"type\":\"scatterpolargl\",\"marker\":{\"colorbar\":{\"outlinewidth\":0,\"ticks\":\"\"}}}],\"bar\":[{\"error_x\":{\"color\":\"#2a3f5f\"},\"error_y\":{\"color\":\"#2a3f5f\"},\"marker\":{\"line\":{\"color\":\"#E5ECF6\",\"width\":0.5},\"pattern\":{\"fillmode\":\"overlay\",\"size\":10,\"solidity\":0.2}},\"type\":\"bar\"}],\"scattergeo\":[{\"type\":\"scattergeo\",\"marker\":{\"colorbar\":{\"outlinewidth\":0,\"ticks\":\"\"}}}],\"scatterpolar\":[{\"type\":\"scatterpolar\",\"marker\":{\"colorbar\":{\"outlinewidth\":0,\"ticks\":\"\"}}}],\"histogram\":[{\"marker\":{\"pattern\":{\"fillmode\":\"overlay\",\"size\":10,\"solidity\":0.2}},\"type\":\"histogram\"}],\"scattergl\":[{\"type\":\"scattergl\",\"marker\":{\"colorbar\":{\"outlinewidth\":0,\"ticks\":\"\"}}}],\"scatter3d\":[{\"type\":\"scatter3d\",\"line\":{\"colorbar\":{\"outlinewidth\":0,\"ticks\":\"\"}},\"marker\":{\"colorbar\":{\"outlinewidth\":0,\"ticks\":\"\"}}}],\"scattermapbox\":[{\"type\":\"scattermapbox\",\"marker\":{\"colorbar\":{\"outlinewidth\":0,\"ticks\":\"\"}}}],\"scatterternary\":[{\"type\":\"scatterternary\",\"marker\":{\"colorbar\":{\"outlinewidth\":0,\"ticks\":\"\"}}}],\"scattercarpet\":[{\"type\":\"scattercarpet\",\"marker\":{\"colorbar\":{\"outlinewidth\":0,\"ticks\":\"\"}}}],\"carpet\":[{\"aaxis\":{\"endlinecolor\":\"#2a3f5f\",\"gridcolor\":\"white\",\"linecolor\":\"white\",\"minorgridcolor\":\"white\",\"startlinecolor\":\"#2a3f5f\"},\"baxis\":{\"endlinecolor\":\"#2a3f5f\",\"gridcolor\":\"white\",\"linecolor\":\"white\",\"minorgridcolor\":\"white\",\"startlinecolor\":\"#2a3f5f\"},\"type\":\"carpet\"}],\"table\":[{\"cells\":{\"fill\":{\"color\":\"#EBF0F8\"},\"line\":{\"color\":\"white\"}},\"header\":{\"fill\":{\"color\":\"#C8D4E3\"},\"line\":{\"color\":\"white\"}},\"type\":\"table\"}],\"barpolar\":[{\"marker\":{\"line\":{\"color\":\"#E5ECF6\",\"width\":0.5},\"pattern\":{\"fillmode\":\"overlay\",\"size\":10,\"solidity\":0.2}},\"type\":\"barpolar\"}],\"pie\":[{\"automargin\":true,\"type\":\"pie\"}]},\"layout\":{\"autotypenumbers\":\"strict\",\"colorway\":[\"#636efa\",\"#EF553B\",\"#00cc96\",\"#ab63fa\",\"#FFA15A\",\"#19d3f3\",\"#FF6692\",\"#B6E880\",\"#FF97FF\",\"#FECB52\"],\"font\":{\"color\":\"#2a3f5f\"},\"hovermode\":\"closest\",\"hoverlabel\":{\"align\":\"left\"},\"paper_bgcolor\":\"white\",\"plot_bgcolor\":\"#E5ECF6\",\"polar\":{\"bgcolor\":\"#E5ECF6\",\"angularaxis\":{\"gridcolor\":\"white\",\"linecolor\":\"white\",\"ticks\":\"\"},\"radialaxis\":{\"gridcolor\":\"white\",\"linecolor\":\"white\",\"ticks\":\"\"}},\"ternary\":{\"bgcolor\":\"#E5ECF6\",\"aaxis\":{\"gridcolor\":\"white\",\"linecolor\":\"white\",\"ticks\":\"\"},\"baxis\":{\"gridcolor\":\"white\",\"linecolor\":\"white\",\"ticks\":\"\"},\"caxis\":{\"gridcolor\":\"white\",\"linecolor\":\"white\",\"ticks\":\"\"}},\"coloraxis\":{\"colorbar\":{\"outlinewidth\":0,\"ticks\":\"\"}},\"colorscale\":{\"sequential\":[[0.0,\"#0d0887\"],[0.1111111111111111,\"#46039f\"],[0.2222222222222222,\"#7201a8\"],[0.3333333333333333,\"#9c179e\"],[0.4444444444444444,\"#bd3786\"],[0.5555555555555556,\"#d8576b\"],[0.6666666666666666,\"#ed7953\"],[0.7777777777777778,\"#fb9f3a\"],[0.8888888888888888,\"#fdca26\"],[1.0,\"#f0f921\"]],\"sequentialminus\":[[0.0,\"#0d0887\"],[0.1111111111111111,\"#46039f\"],[0.2222222222222222,\"#7201a8\"],[0.3333333333333333,\"#9c179e\"],[0.4444444444444444,\"#bd3786\"],[0.5555555555555556,\"#d8576b\"],[0.6666666666666666,\"#ed7953\"],[0.7777777777777778,\"#fb9f3a\"],[0.8888888888888888,\"#fdca26\"],[1.0,\"#f0f921\"]],\"diverging\":[[0,\"#8e0152\"],[0.1,\"#c51b7d\"],[0.2,\"#de77ae\"],[0.3,\"#f1b6da\"],[0.4,\"#fde0ef\"],[0.5,\"#f7f7f7\"],[0.6,\"#e6f5d0\"],[0.7,\"#b8e186\"],[0.8,\"#7fbc41\"],[0.9,\"#4d9221\"],[1,\"#276419\"]]},\"xaxis\":{\"gridcolor\":\"white\",\"linecolor\":\"white\",\"ticks\":\"\",\"title\":{\"standoff\":15},\"zerolinecolor\":\"white\",\"automargin\":true,\"zerolinewidth\":2},\"yaxis\":{\"gridcolor\":\"white\",\"linecolor\":\"white\",\"ticks\":\"\",\"title\":{\"standoff\":15},\"zerolinecolor\":\"white\",\"automargin\":true,\"zerolinewidth\":2},\"scene\":{\"xaxis\":{\"backgroundcolor\":\"#E5ECF6\",\"gridcolor\":\"white\",\"linecolor\":\"white\",\"showbackground\":true,\"ticks\":\"\",\"zerolinecolor\":\"white\",\"gridwidth\":2},\"yaxis\":{\"backgroundcolor\":\"#E5ECF6\",\"gridcolor\":\"white\",\"linecolor\":\"white\",\"showbackground\":true,\"ticks\":\"\",\"zerolinecolor\":\"white\",\"gridwidth\":2},\"zaxis\":{\"backgroundcolor\":\"#E5ECF6\",\"gridcolor\":\"white\",\"linecolor\":\"white\",\"showbackground\":true,\"ticks\":\"\",\"zerolinecolor\":\"white\",\"gridwidth\":2}},\"shapedefaults\":{\"line\":{\"color\":\"#2a3f5f\"}},\"annotationdefaults\":{\"arrowcolor\":\"#2a3f5f\",\"arrowhead\":0,\"arrowwidth\":1},\"geo\":{\"bgcolor\":\"white\",\"landcolor\":\"#E5ECF6\",\"subunitcolor\":\"white\",\"showland\":true,\"showlakes\":true,\"lakecolor\":\"white\"},\"title\":{\"x\":0.05},\"mapbox\":{\"style\":\"light\"}}},\"xaxis\":{\"anchor\":\"y\",\"domain\":[0.0,1.0],\"matches\":\"x2\",\"showticklabels\":false},\"yaxis\":{\"anchor\":\"x\",\"domain\":[0.45399999999999996,0.9999999999999999]},\"xaxis2\":{\"anchor\":\"y2\",\"domain\":[0.0,1.0]},\"yaxis2\":{\"anchor\":\"x2\",\"domain\":[0.0,0.23399999999999999]},\"annotations\":[{\"font\":{\"size\":16},\"showarrow\":false,\"text\":\"Candlestick Chart with 20-period MA\",\"x\":0.5,\"xanchor\":\"center\",\"xref\":\"paper\",\"y\":0.9999999999999999,\"yanchor\":\"bottom\",\"yref\":\"paper\"},{\"font\":{\"size\":16},\"showarrow\":false,\"text\":\"RSI\",\"x\":0.5,\"xanchor\":\"center\",\"xref\":\"paper\",\"y\":0.23399999999999999,\"yanchor\":\"bottom\",\"yref\":\"paper\"}],\"width\":900,\"height\":700},                        {\"responsive\": true}                    ).then(function(){\n",
       "                            \n",
       "var gd = document.getElementById('404ddb57-1487-4f3d-80ba-e822f5499510');\n",
       "var x = new MutationObserver(function (mutations, observer) {{\n",
       "        var display = window.getComputedStyle(gd).display;\n",
       "        if (!display || display === 'none') {{\n",
       "            console.log([gd, 'removed!']);\n",
       "            Plotly.purge(gd);\n",
       "            observer.disconnect();\n",
       "        }}\n",
       "}});\n",
       "\n",
       "// Listen for the removal of the full notebook cells\n",
       "var notebookContainer = gd.closest('#notebook-container');\n",
       "if (notebookContainer) {{\n",
       "    x.observe(notebookContainer, {childList: true});\n",
       "}}\n",
       "\n",
       "// Listen for the clearing of the current output cell\n",
       "var outputEl = gd.closest('.output');\n",
       "if (outputEl) {{\n",
       "    x.observe(outputEl, {childList: true});\n",
       "}}\n",
       "\n",
       "                        })                };                });            </script>        </div>"
      ]
     },
     "metadata": {},
     "output_type": "display_data"
    }
   ],
   "source": [
    "import plotly.graph_objects as go\n",
    "import plotly.subplots as sp\n",
    "import pandas as pd\n",
    "from datetime import datetime\n",
    "\n",
    "fig = sp.make_subplots(rows=2, cols=1, shared_xaxes=True, \n",
    "                       row_heights=[0.7, 0.3], vertical_spacing=0.22,\n",
    "                       subplot_titles=(\"Candlestick Chart with 20-period MA\", \"RSI\"))\n",
    "\n",
    "fig.add_trace(go.Candlestick(x=live_prices['timestamp'],\n",
    "                             open=live_prices['open'],\n",
    "                             high=live_prices['high'],\n",
    "                             low=live_prices['low'],\n",
    "                             close=live_prices['close'],\n",
    "                             name='Candlestick'), row=1, col=1)\n",
    "\n",
    "fig.add_trace(go.Scatter(x=live_prices['timestamp'], y=live_prices['MA20'],\n",
    "                         mode='lines', line=dict(color='blue', width=2),\n",
    "                         name='20-period MA'), row=1, col=1)\n",
    "\n",
    "fig.add_trace(go.Scatter(x=live_prices['timestamp'], y=live_prices['RSI'],\n",
    "                         mode='lines', line=dict(color='orange', width=2),\n",
    "                         name='RSI'), row=2, col=1)\n",
    "\n",
    "fig.update_layout(\n",
    "    width=900,\n",
    "    height=700)\n",
    "fig.show()"
   ]
  },
  {
   "cell_type": "code",
   "execution_count": 10,
   "id": "62c45ea1",
   "metadata": {},
   "outputs": [
    {
     "data": {
      "text/html": [
       "<div>\n",
       "<style scoped>\n",
       "    .dataframe tbody tr th:only-of-type {\n",
       "        vertical-align: middle;\n",
       "    }\n",
       "\n",
       "    .dataframe tbody tr th {\n",
       "        vertical-align: top;\n",
       "    }\n",
       "\n",
       "    .dataframe thead th {\n",
       "        text-align: right;\n",
       "    }\n",
       "</style>\n",
       "<table border=\"1\" class=\"dataframe\">\n",
       "  <thead>\n",
       "    <tr style=\"text-align: right;\">\n",
       "      <th></th>\n",
       "      <th>Date</th>\n",
       "      <th>Time</th>\n",
       "      <th>Symbol</th>\n",
       "      <th>Side</th>\n",
       "      <th>Price</th>\n",
       "      <th>Quantity</th>\n",
       "      <th>Value</th>\n",
       "      <th>executedQty</th>\n",
       "      <th>Commission</th>\n",
       "    </tr>\n",
       "  </thead>\n",
       "  <tbody>\n",
       "  </tbody>\n",
       "</table>\n",
       "</div>"
      ],
      "text/plain": [
       "Empty DataFrame\n",
       "Columns: [Date, Time, Symbol, Side, Price, Quantity, Value, executedQty, Commission]\n",
       "Index: []"
      ]
     },
     "execution_count": 10,
     "metadata": {},
     "output_type": "execute_result"
    }
   ],
   "source": [
    "if 'order_book' in globals():\n",
    "    del order_book\n",
    "\n",
    "column_names = ['Date', 'Time', 'Symbol', 'Side', 'Price', 'Quantity', 'Value', 'executedQty', 'Commission']\n",
    "\n",
    "order_book = pd.DataFrame(columns=column_names)\n",
    "order_book"
   ]
  },
  {
   "cell_type": "code",
   "execution_count": 11,
   "id": "8c5f28ce",
   "metadata": {},
   "outputs": [],
   "source": [
    "def append_order_book(order):\n",
    "    for item in order['info']['fills']:\n",
    "        order_book.loc[len(order_book.index)] = [order['datetime'].split('T')[0],\n",
    "                        order['datetime'].split('T')[1][:-5],\n",
    "                        order['info']['symbol'],\n",
    "                        order['info']['side'],\n",
    "                        item['price'],\n",
    "                        item['qty'],\n",
    "                        float(item['price'])*float(item['qty']),\n",
    "                        order['info']['executedQty'],\n",
    "                        item['commission']]\n",
    "    return order_book"
   ]
  },
  {
   "cell_type": "code",
   "execution_count": 12,
   "id": "cd3477cb",
   "metadata": {},
   "outputs": [],
   "source": [
    "def place_order(signal, amount, symbol):\n",
    "    if signal == 'buy':\n",
    "        order = exchange.create_market_buy_order(symbol, amount)\n",
    "    elif signal == 'sell':\n",
    "        order = exchange.create_market_sell_order(symbol, amount)\n",
    "    order_book = append_order_book(order)\n",
    "    order_book = pd.DataFrame(order_book)\n",
    "    return order_book"
   ]
  },
  {
   "cell_type": "code",
   "execution_count": 20,
   "id": "ac909ce6",
   "metadata": {
    "scrolled": true
   },
   "outputs": [
    {
     "ename": "InvalidNonce",
     "evalue": "binance {\"code\":-1021,\"msg\":\"Timestamp for this request was 1000ms ahead of the server's time.\"}",
     "output_type": "error",
     "traceback": [
      "\u001b[1;31m---------------------------------------------------------------------------\u001b[0m",
      "\u001b[1;31mHTTPError\u001b[0m                                 Traceback (most recent call last)",
      "File \u001b[1;32m~\\anaconda3\\Lib\\site-packages\\ccxt\\base\\exchange.py:564\u001b[0m, in \u001b[0;36mExchange.fetch\u001b[1;34m(self, url, method, headers, body)\u001b[0m\n\u001b[0;32m    563\u001b[0m     \u001b[38;5;28mself\u001b[39m\u001b[38;5;241m.\u001b[39mlogger\u001b[38;5;241m.\u001b[39mdebug(\u001b[38;5;124m\"\u001b[39m\u001b[38;5;132;01m%s\u001b[39;00m\u001b[38;5;124m \u001b[39m\u001b[38;5;132;01m%s\u001b[39;00m\u001b[38;5;124m, Response: \u001b[39m\u001b[38;5;132;01m%s\u001b[39;00m\u001b[38;5;124m \u001b[39m\u001b[38;5;132;01m%s\u001b[39;00m\u001b[38;5;124m \u001b[39m\u001b[38;5;132;01m%s\u001b[39;00m\u001b[38;5;124m\"\u001b[39m, method, url, http_status_code, headers, http_response)\n\u001b[1;32m--> 564\u001b[0m     response\u001b[38;5;241m.\u001b[39mraise_for_status()\n\u001b[0;32m    566\u001b[0m \u001b[38;5;28;01mexcept\u001b[39;00m Timeout \u001b[38;5;28;01mas\u001b[39;00m e:\n",
      "File \u001b[1;32m~\\anaconda3\\Lib\\site-packages\\requests\\models.py:1021\u001b[0m, in \u001b[0;36mResponse.raise_for_status\u001b[1;34m(self)\u001b[0m\n\u001b[0;32m   1020\u001b[0m \u001b[38;5;28;01mif\u001b[39;00m http_error_msg:\n\u001b[1;32m-> 1021\u001b[0m     \u001b[38;5;28;01mraise\u001b[39;00m HTTPError(http_error_msg, response\u001b[38;5;241m=\u001b[39m\u001b[38;5;28mself\u001b[39m)\n",
      "\u001b[1;31mHTTPError\u001b[0m: 400 Client Error: Bad Request for url: https://testnet.binance.vision/api/v3/order",
      "\nDuring handling of the above exception, another exception occurred:\n",
      "\u001b[1;31mInvalidNonce\u001b[0m                              Traceback (most recent call last)",
      "Cell \u001b[1;32mIn[20], line 1\u001b[0m\n\u001b[1;32m----> 1\u001b[0m place_order(signal \u001b[38;5;241m=\u001b[39m \u001b[38;5;124m'\u001b[39m\u001b[38;5;124mbuy\u001b[39m\u001b[38;5;124m'\u001b[39m, amount \u001b[38;5;241m=\u001b[39m \u001b[38;5;124m'\u001b[39m\u001b[38;5;124m0.3\u001b[39m\u001b[38;5;124m'\u001b[39m, symbol \u001b[38;5;241m=\u001b[39m \u001b[38;5;124m'\u001b[39m\u001b[38;5;124mBTC/USDT\u001b[39m\u001b[38;5;124m'\u001b[39m)\n",
      "Cell \u001b[1;32mIn[12], line 3\u001b[0m, in \u001b[0;36mplace_order\u001b[1;34m(signal, amount, symbol)\u001b[0m\n\u001b[0;32m      1\u001b[0m \u001b[38;5;28;01mdef\u001b[39;00m \u001b[38;5;21mplace_order\u001b[39m(signal, amount, symbol):\n\u001b[0;32m      2\u001b[0m     \u001b[38;5;28;01mif\u001b[39;00m signal \u001b[38;5;241m==\u001b[39m \u001b[38;5;124m'\u001b[39m\u001b[38;5;124mbuy\u001b[39m\u001b[38;5;124m'\u001b[39m:\n\u001b[1;32m----> 3\u001b[0m         order \u001b[38;5;241m=\u001b[39m exchange\u001b[38;5;241m.\u001b[39mcreate_market_buy_order(symbol, amount)\n\u001b[0;32m      4\u001b[0m     \u001b[38;5;28;01melif\u001b[39;00m signal \u001b[38;5;241m==\u001b[39m \u001b[38;5;124m'\u001b[39m\u001b[38;5;124msell\u001b[39m\u001b[38;5;124m'\u001b[39m:\n\u001b[0;32m      5\u001b[0m         order \u001b[38;5;241m=\u001b[39m exchange\u001b[38;5;241m.\u001b[39mcreate_market_sell_order(symbol, amount)\n",
      "File \u001b[1;32m~\\anaconda3\\Lib\\site-packages\\ccxt\\base\\exchange.py:5113\u001b[0m, in \u001b[0;36mExchange.create_market_buy_order\u001b[1;34m(self, symbol, amount, params)\u001b[0m\n\u001b[0;32m   5112\u001b[0m \u001b[38;5;28;01mdef\u001b[39;00m \u001b[38;5;21mcreate_market_buy_order\u001b[39m(\u001b[38;5;28mself\u001b[39m, symbol: \u001b[38;5;28mstr\u001b[39m, amount: \u001b[38;5;28mfloat\u001b[39m, params\u001b[38;5;241m=\u001b[39m{}):\n\u001b[1;32m-> 5113\u001b[0m     \u001b[38;5;28;01mreturn\u001b[39;00m \u001b[38;5;28mself\u001b[39m\u001b[38;5;241m.\u001b[39mcreate_order(symbol, \u001b[38;5;124m'\u001b[39m\u001b[38;5;124mmarket\u001b[39m\u001b[38;5;124m'\u001b[39m, \u001b[38;5;124m'\u001b[39m\u001b[38;5;124mbuy\u001b[39m\u001b[38;5;124m'\u001b[39m, amount, \u001b[38;5;28;01mNone\u001b[39;00m, params)\n",
      "File \u001b[1;32m~\\anaconda3\\Lib\\site-packages\\ccxt\\binance.py:5586\u001b[0m, in \u001b[0;36mbinance.create_order\u001b[1;34m(self, symbol, type, side, amount, price, params)\u001b[0m\n\u001b[0;32m   5584\u001b[0m         response \u001b[38;5;241m=\u001b[39m \u001b[38;5;28mself\u001b[39m\u001b[38;5;241m.\u001b[39mprivatePostOrderTest(request)\n\u001b[0;32m   5585\u001b[0m     \u001b[38;5;28;01melse\u001b[39;00m:\n\u001b[1;32m-> 5586\u001b[0m         response \u001b[38;5;241m=\u001b[39m \u001b[38;5;28mself\u001b[39m\u001b[38;5;241m.\u001b[39mprivatePostOrder(request)\n\u001b[0;32m   5587\u001b[0m \u001b[38;5;28;01mreturn\u001b[39;00m \u001b[38;5;28mself\u001b[39m\u001b[38;5;241m.\u001b[39mparse_order(response, market)\n",
      "File \u001b[1;32m~\\anaconda3\\Lib\\site-packages\\ccxt\\base\\types.py:35\u001b[0m, in \u001b[0;36mEntry.__init__.<locals>.unbound_method\u001b[1;34m(_self, params)\u001b[0m\n\u001b[0;32m     34\u001b[0m \u001b[38;5;28;01mdef\u001b[39;00m \u001b[38;5;21munbound_method\u001b[39m(_self, params\u001b[38;5;241m=\u001b[39m{}):\n\u001b[1;32m---> 35\u001b[0m     \u001b[38;5;28;01mreturn\u001b[39;00m _self\u001b[38;5;241m.\u001b[39mrequest(\u001b[38;5;28mself\u001b[39m\u001b[38;5;241m.\u001b[39mpath, \u001b[38;5;28mself\u001b[39m\u001b[38;5;241m.\u001b[39mapi, \u001b[38;5;28mself\u001b[39m\u001b[38;5;241m.\u001b[39mmethod, params, config\u001b[38;5;241m=\u001b[39m\u001b[38;5;28mself\u001b[39m\u001b[38;5;241m.\u001b[39mconfig)\n",
      "File \u001b[1;32m~\\anaconda3\\Lib\\site-packages\\ccxt\\binance.py:10673\u001b[0m, in \u001b[0;36mbinance.request\u001b[1;34m(self, path, api, method, params, headers, body, config)\u001b[0m\n\u001b[0;32m  10672\u001b[0m \u001b[38;5;28;01mdef\u001b[39;00m \u001b[38;5;21mrequest\u001b[39m(\u001b[38;5;28mself\u001b[39m, path, api\u001b[38;5;241m=\u001b[39m\u001b[38;5;124m'\u001b[39m\u001b[38;5;124mpublic\u001b[39m\u001b[38;5;124m'\u001b[39m, method\u001b[38;5;241m=\u001b[39m\u001b[38;5;124m'\u001b[39m\u001b[38;5;124mGET\u001b[39m\u001b[38;5;124m'\u001b[39m, params\u001b[38;5;241m=\u001b[39m{}, headers\u001b[38;5;241m=\u001b[39m\u001b[38;5;28;01mNone\u001b[39;00m, body\u001b[38;5;241m=\u001b[39m\u001b[38;5;28;01mNone\u001b[39;00m, config\u001b[38;5;241m=\u001b[39m{}):\n\u001b[1;32m> 10673\u001b[0m     response \u001b[38;5;241m=\u001b[39m \u001b[38;5;28mself\u001b[39m\u001b[38;5;241m.\u001b[39mfetch2(path, api, method, params, headers, body, config)\n\u001b[0;32m  10674\u001b[0m     \u001b[38;5;66;03m# a workaround for {\"code\":-2015,\"msg\":\"Invalid API-key, IP, or permissions for action.\"}\u001b[39;00m\n\u001b[0;32m  10675\u001b[0m     \u001b[38;5;28;01mif\u001b[39;00m api \u001b[38;5;241m==\u001b[39m \u001b[38;5;124m'\u001b[39m\u001b[38;5;124mprivate\u001b[39m\u001b[38;5;124m'\u001b[39m:\n",
      "File \u001b[1;32m~\\anaconda3\\Lib\\site-packages\\ccxt\\base\\exchange.py:4059\u001b[0m, in \u001b[0;36mExchange.fetch2\u001b[1;34m(self, path, api, method, params, headers, body, config)\u001b[0m\n\u001b[0;32m   4057\u001b[0m                     \u001b[38;5;28mself\u001b[39m\u001b[38;5;241m.\u001b[39msleep(retryDelay)\n\u001b[0;32m   4058\u001b[0m                 \u001b[38;5;28;01mcontinue\u001b[39;00m\n\u001b[1;32m-> 4059\u001b[0m         \u001b[38;5;28;01mraise\u001b[39;00m e\n\u001b[0;32m   4060\u001b[0m \u001b[38;5;28;01mreturn\u001b[39;00m \u001b[38;5;28;01mNone\u001b[39;00m\n",
      "File \u001b[1;32m~\\anaconda3\\Lib\\site-packages\\ccxt\\base\\exchange.py:4050\u001b[0m, in \u001b[0;36mExchange.fetch2\u001b[1;34m(self, path, api, method, params, headers, body, config)\u001b[0m\n\u001b[0;32m   4048\u001b[0m \u001b[38;5;28;01mfor\u001b[39;00m i \u001b[38;5;129;01min\u001b[39;00m \u001b[38;5;28mrange\u001b[39m(\u001b[38;5;241m0\u001b[39m, retries \u001b[38;5;241m+\u001b[39m \u001b[38;5;241m1\u001b[39m):\n\u001b[0;32m   4049\u001b[0m     \u001b[38;5;28;01mtry\u001b[39;00m:\n\u001b[1;32m-> 4050\u001b[0m         \u001b[38;5;28;01mreturn\u001b[39;00m \u001b[38;5;28mself\u001b[39m\u001b[38;5;241m.\u001b[39mfetch(request[\u001b[38;5;124m'\u001b[39m\u001b[38;5;124murl\u001b[39m\u001b[38;5;124m'\u001b[39m], request[\u001b[38;5;124m'\u001b[39m\u001b[38;5;124mmethod\u001b[39m\u001b[38;5;124m'\u001b[39m], request[\u001b[38;5;124m'\u001b[39m\u001b[38;5;124mheaders\u001b[39m\u001b[38;5;124m'\u001b[39m], request[\u001b[38;5;124m'\u001b[39m\u001b[38;5;124mbody\u001b[39m\u001b[38;5;124m'\u001b[39m])\n\u001b[0;32m   4051\u001b[0m     \u001b[38;5;28;01mexcept\u001b[39;00m \u001b[38;5;167;01mException\u001b[39;00m \u001b[38;5;28;01mas\u001b[39;00m e:\n\u001b[0;32m   4052\u001b[0m         \u001b[38;5;28;01mif\u001b[39;00m \u001b[38;5;28misinstance\u001b[39m(e, NetworkError):\n",
      "File \u001b[1;32m~\\anaconda3\\Lib\\site-packages\\ccxt\\base\\exchange.py:580\u001b[0m, in \u001b[0;36mExchange.fetch\u001b[1;34m(self, url, method, headers, body)\u001b[0m\n\u001b[0;32m    578\u001b[0m \u001b[38;5;28;01mexcept\u001b[39;00m HTTPError \u001b[38;5;28;01mas\u001b[39;00m e:\n\u001b[0;32m    579\u001b[0m     details \u001b[38;5;241m=\u001b[39m \u001b[38;5;124m'\u001b[39m\u001b[38;5;124m \u001b[39m\u001b[38;5;124m'\u001b[39m\u001b[38;5;241m.\u001b[39mjoin([\u001b[38;5;28mself\u001b[39m\u001b[38;5;241m.\u001b[39mid, method, url])\n\u001b[1;32m--> 580\u001b[0m     skip_further_error_handling \u001b[38;5;241m=\u001b[39m \u001b[38;5;28mself\u001b[39m\u001b[38;5;241m.\u001b[39mhandle_errors(http_status_code, http_status_text, url, method, headers, http_response, json_response, request_headers, request_body)\n\u001b[0;32m    581\u001b[0m     \u001b[38;5;28;01mif\u001b[39;00m \u001b[38;5;129;01mnot\u001b[39;00m skip_further_error_handling:\n\u001b[0;32m    582\u001b[0m         \u001b[38;5;28mself\u001b[39m\u001b[38;5;241m.\u001b[39mhandle_http_status_code(http_status_code, http_status_text, url, method, http_response)\n",
      "File \u001b[1;32m~\\anaconda3\\Lib\\site-packages\\ccxt\\binance.py:10641\u001b[0m, in \u001b[0;36mbinance.handle_errors\u001b[1;34m(self, code, reason, url, method, headers, body, response, requestHeaders, requestBody)\u001b[0m\n\u001b[0;32m  10639\u001b[0m         \u001b[38;5;28;01mraise\u001b[39;00m MarginModeAlreadySet(feedback)\n\u001b[0;32m  10640\u001b[0m     \u001b[38;5;28mself\u001b[39m\u001b[38;5;241m.\u001b[39mthrow_exactly_matched_exception(\u001b[38;5;28mself\u001b[39m\u001b[38;5;241m.\u001b[39mget_exceptions_by_url(url, \u001b[38;5;124m'\u001b[39m\u001b[38;5;124mexact\u001b[39m\u001b[38;5;124m'\u001b[39m), error, feedback)\n\u001b[1;32m> 10641\u001b[0m     \u001b[38;5;28mself\u001b[39m\u001b[38;5;241m.\u001b[39mthrow_exactly_matched_exception(\u001b[38;5;28mself\u001b[39m\u001b[38;5;241m.\u001b[39mexceptions[\u001b[38;5;124m'\u001b[39m\u001b[38;5;124mexact\u001b[39m\u001b[38;5;124m'\u001b[39m], error, feedback)\n\u001b[0;32m  10642\u001b[0m     \u001b[38;5;28;01mraise\u001b[39;00m ExchangeError(feedback)\n\u001b[0;32m  10643\u001b[0m \u001b[38;5;28;01mif\u001b[39;00m \u001b[38;5;129;01mnot\u001b[39;00m success:\n",
      "File \u001b[1;32m~\\anaconda3\\Lib\\site-packages\\ccxt\\base\\exchange.py:4445\u001b[0m, in \u001b[0;36mExchange.throw_exactly_matched_exception\u001b[1;34m(self, exact, string, message)\u001b[0m\n\u001b[0;32m   4443\u001b[0m     \u001b[38;5;28;01mreturn\u001b[39;00m\n\u001b[0;32m   4444\u001b[0m \u001b[38;5;28;01mif\u001b[39;00m string \u001b[38;5;129;01min\u001b[39;00m exact:\n\u001b[1;32m-> 4445\u001b[0m     \u001b[38;5;28;01mraise\u001b[39;00m exact[string](message)\n",
      "\u001b[1;31mInvalidNonce\u001b[0m: binance {\"code\":-1021,\"msg\":\"Timestamp for this request was 1000ms ahead of the server's time.\"}"
     ]
    }
   ],
   "source": [
    "place_order(signal = 'buy', amount = '0.3', symbol = 'BTC/USDT')"
   ]
  },
  {
   "cell_type": "code",
   "execution_count": 36,
   "id": "cd4645f2",
   "metadata": {},
   "outputs": [
    {
     "data": {
      "text/html": [
       "<div>\n",
       "<style scoped>\n",
       "    .dataframe tbody tr th:only-of-type {\n",
       "        vertical-align: middle;\n",
       "    }\n",
       "\n",
       "    .dataframe tbody tr th {\n",
       "        vertical-align: top;\n",
       "    }\n",
       "\n",
       "    .dataframe thead th {\n",
       "        text-align: right;\n",
       "    }\n",
       "</style>\n",
       "<table border=\"1\" class=\"dataframe\">\n",
       "  <thead>\n",
       "    <tr style=\"text-align: right;\">\n",
       "      <th></th>\n",
       "      <th>Asset</th>\n",
       "      <th>Free Value</th>\n",
       "      <th>Locked Value</th>\n",
       "      <th>Value</th>\n",
       "    </tr>\n",
       "  </thead>\n",
       "  <tbody>\n",
       "  </tbody>\n",
       "</table>\n",
       "</div>"
      ],
      "text/plain": [
       "Empty DataFrame\n",
       "Columns: [Asset, Free Value, Locked Value, Value]\n",
       "Index: []"
      ]
     },
     "execution_count": 36,
     "metadata": {},
     "output_type": "execute_result"
    }
   ],
   "source": [
    "if 'current_assets' in globals():\n",
    "    del current_assets\n",
    "\n",
    "column_names = ['Asset', 'Free Value', 'Locked Value', 'Value']\n",
    "\n",
    "current_assets = pd.DataFrame(columns=column_names)\n",
    "current_assets"
   ]
  },
  {
   "cell_type": "code",
   "execution_count": 37,
   "id": "7c6be775",
   "metadata": {},
   "outputs": [],
   "source": [
    "import numpy as np\n",
    "\n",
    "def get_current_price(symbol):\n",
    "    try:\n",
    "        ticker = exchange.fetch_ticker(symbol)\n",
    "        \n",
    "        current_price = ticker.get('last', np.nan)\n",
    "        return current_price\n",
    "    except:\n",
    "        return np.nan"
   ]
  },
  {
   "cell_type": "code",
   "execution_count": 421,
   "id": "0e33c955",
   "metadata": {
    "collapsed": true
   },
   "outputs": [
    {
     "data": {
      "text/html": [
       "<div>\n",
       "<style scoped>\n",
       "    .dataframe tbody tr th:only-of-type {\n",
       "        vertical-align: middle;\n",
       "    }\n",
       "\n",
       "    .dataframe tbody tr th {\n",
       "        vertical-align: top;\n",
       "    }\n",
       "\n",
       "    .dataframe thead th {\n",
       "        text-align: right;\n",
       "    }\n",
       "</style>\n",
       "<table border=\"1\" class=\"dataframe\">\n",
       "  <thead>\n",
       "    <tr style=\"text-align: right;\">\n",
       "      <th></th>\n",
       "      <th>Asset</th>\n",
       "      <th>Free Value</th>\n",
       "      <th>Locked Value</th>\n",
       "      <th>Value</th>\n",
       "    </tr>\n",
       "  </thead>\n",
       "  <tbody>\n",
       "    <tr>\n",
       "      <th>0</th>\n",
       "      <td>ETH</td>\n",
       "      <td>0.64120000</td>\n",
       "      <td>0.00000000</td>\n",
       "      <td>NaN</td>\n",
       "    </tr>\n",
       "    <tr>\n",
       "      <th>1</th>\n",
       "      <td>BTC</td>\n",
       "      <td>1.12300000</td>\n",
       "      <td>0.00000000</td>\n",
       "      <td>NaN</td>\n",
       "    </tr>\n",
       "    <tr>\n",
       "      <th>2</th>\n",
       "      <td>LTC</td>\n",
       "      <td>8.00000000</td>\n",
       "      <td>0.00000000</td>\n",
       "      <td>NaN</td>\n",
       "    </tr>\n",
       "    <tr>\n",
       "      <th>3</th>\n",
       "      <td>BNB</td>\n",
       "      <td>1.00000000</td>\n",
       "      <td>0.00000000</td>\n",
       "      <td>NaN</td>\n",
       "    </tr>\n",
       "    <tr>\n",
       "      <th>4</th>\n",
       "      <td>USDT</td>\n",
       "      <td>3630.00161660</td>\n",
       "      <td>0.00000000</td>\n",
       "      <td>3630.00161660</td>\n",
       "    </tr>\n",
       "    <tr>\n",
       "      <th>5</th>\n",
       "      <td>TRX</td>\n",
       "      <td>4026.00000000</td>\n",
       "      <td>0.00000000</td>\n",
       "      <td>NaN</td>\n",
       "    </tr>\n",
       "    <tr>\n",
       "      <th>6</th>\n",
       "      <td>XRP</td>\n",
       "      <td>973.00000000</td>\n",
       "      <td>0.00000000</td>\n",
       "      <td>NaN</td>\n",
       "    </tr>\n",
       "    <tr>\n",
       "      <th>7</th>\n",
       "      <td>NEO</td>\n",
       "      <td>55.00000000</td>\n",
       "      <td>0.00000000</td>\n",
       "      <td>NaN</td>\n",
       "    </tr>\n",
       "    <tr>\n",
       "      <th>8</th>\n",
       "      <td>QTUM</td>\n",
       "      <td>239.00000000</td>\n",
       "      <td>0.00000000</td>\n",
       "      <td>NaN</td>\n",
       "    </tr>\n",
       "    <tr>\n",
       "      <th>9</th>\n",
       "      <td>EOS</td>\n",
       "      <td>1095.00000000</td>\n",
       "      <td>0.00000000</td>\n",
       "      <td>NaN</td>\n",
       "    </tr>\n",
       "  </tbody>\n",
       "</table>\n",
       "</div>"
      ],
      "text/plain": [
       "  Asset     Free Value Locked Value          Value\n",
       "0   ETH     0.64120000   0.00000000            NaN\n",
       "1   BTC     1.12300000   0.00000000            NaN\n",
       "2   LTC     8.00000000   0.00000000            NaN\n",
       "3   BNB     1.00000000   0.00000000            NaN\n",
       "4  USDT  3630.00161660   0.00000000  3630.00161660\n",
       "5   TRX  4026.00000000   0.00000000            NaN\n",
       "6   XRP   973.00000000   0.00000000            NaN\n",
       "7   NEO    55.00000000   0.00000000            NaN\n",
       "8  QTUM   239.00000000   0.00000000            NaN\n",
       "9   EOS  1095.00000000   0.00000000            NaN"
      ]
     },
     "execution_count": 421,
     "metadata": {},
     "output_type": "execute_result"
    }
   ],
   "source": [
    "import numpy as np\n",
    "\n",
    "for item in balance['info']['balances'][:10]:\n",
    "    if item['asset'] == 'USDT':\n",
    "        value = item['free']\n",
    "    else:\n",
    "        symbol = f\"{item['asset']}/USDT\"\n",
    "        current_price = get_current_price(symbol)\n",
    "        value = float(item['free'])*float(current_price)\n",
    "\n",
    "    current_assets.loc[len(current_assets.index)] = [item['asset'], item['free'], item['locked'], value]\n",
    "    \n",
    "current_assets"
   ]
  },
  {
   "cell_type": "code",
   "execution_count": null,
   "id": "65c59f83",
   "metadata": {},
   "outputs": [],
   "source": []
  }
 ],
 "metadata": {
  "kernelspec": {
   "display_name": "Python 3 (ipykernel)",
   "language": "python",
   "name": "python3"
  },
  "language_info": {
   "codemirror_mode": {
    "name": "ipython",
    "version": 3
   },
   "file_extension": ".py",
   "mimetype": "text/x-python",
   "name": "python",
   "nbconvert_exporter": "python",
   "pygments_lexer": "ipython3",
   "version": "3.11.5"
  }
 },
 "nbformat": 4,
 "nbformat_minor": 5
}
